{
  "nbformat": 4,
  "nbformat_minor": 0,
  "metadata": {
    "colab": {
      "provenance": [],
      "authorship_tag": "ABX9TyPbAqnPuVcrgO6mFZWrCWpF",
      "include_colab_link": true
    },
    "kernelspec": {
      "name": "python3",
      "display_name": "Python 3"
    },
    "language_info": {
      "name": "python"
    }
  },
  "cells": [
    {
      "cell_type": "markdown",
      "metadata": {
        "id": "view-in-github",
        "colab_type": "text"
      },
      "source": [
        "<a href=\"https://colab.research.google.com/github/AnnaYatsyshyn/Data-analysis/blob/main/lab1_%D0%AF%D1%86%D0%B8%D1%88%D0%B8%D0%BD-%D0%9A%D1%83%D0%BB%D1%96%D1%88%20%D0%90%D0%BD%D0%BD%D0%B0_%D0%9A%D0%9D-20-1.ipynb\" target=\"_parent\"><img src=\"https://colab.research.google.com/assets/colab-badge.svg\" alt=\"Open In Colab\"/></a>"
      ]
    },
    {
      "cell_type": "code",
      "execution_count": null,
      "metadata": {
        "id": "Wd21wwXx6Tvo"
      },
      "outputs": [],
      "source": [
        "import pandas as pd\n",
        "\n",
        "pd.read_csv(\"data.csv\", delimiter=',')\n"
      ]
    },
    {
      "cell_type": "code",
      "source": [],
      "metadata": {
        "id": "jbxc87XH6a9A"
      },
      "execution_count": null,
      "outputs": []
    }
  ]
}