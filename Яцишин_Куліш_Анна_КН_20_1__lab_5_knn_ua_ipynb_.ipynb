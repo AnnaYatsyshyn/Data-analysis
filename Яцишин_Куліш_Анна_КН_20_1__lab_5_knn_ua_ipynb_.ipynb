{
  "cells": [
    {
      "cell_type": "markdown",
      "metadata": {
        "id": "oKR3aPRr50cx"
      },
      "source": [
        "## Лабораторная 3: метод ближайших соседей (kNN)"
      ]
    },
    {
      "cell_type": "markdown",
      "metadata": {
        "id": "VXM8j8GO50c7"
      },
      "source": [
        "В рамках этого занятия мы будем создавать модель для предсказания выживших пассажиров на \"Титанике\" (классическое учебное Kaggle [соревнование](https://www.kaggle.com/c/titanic)).\n",
        "\n",
        "![Титаник](http://staff.mmcs.sfedu.ru/~sguda/MachineLearning/titanic.png)\n",
        "\n",
        "## 1"
      ]
    },
    {
      "cell_type": "markdown",
      "metadata": {
        "id": "jrBaIPt750c9"
      },
      "source": [
        "Загрузите данные о погибших в катастрофе с \"Титаником\". Целевым признаком здесь является факт спасения пассажира. Посмотрите на данные."
      ]
    },
    {
      "cell_type": "code",
      "execution_count": 1,
      "metadata": {
        "id": "lxcP1Eaf50c_"
      },
      "outputs": [],
      "source": [
        "import pandas as pd"
      ]
    },
    {
      "cell_type": "code",
      "execution_count": 2,
      "metadata": {
        "id": "p3KwqPW350dC",
        "colab": {
          "base_uri": "https://localhost:8080/",
          "height": 206
        },
        "outputId": "12196ed9-857d-4cab-b515-c476b6861d3e"
      },
      "outputs": [
        {
          "output_type": "execute_result",
          "data": {
            "text/plain": [
              "   PassengerId  Survived  Pclass  \\\n",
              "0            1         0       3   \n",
              "1            2         1       1   \n",
              "2            3         1       3   \n",
              "3            4         1       1   \n",
              "4            5         0       3   \n",
              "\n",
              "                                                Name     Sex   Age  SibSp  \\\n",
              "0                            Braund, Mr. Owen Harris    male  22.0      1   \n",
              "1  Cumings, Mrs. John Bradley (Florence Briggs Th...  female  38.0      1   \n",
              "2                             Heikkinen, Miss. Laina  female  26.0      0   \n",
              "3       Futrelle, Mrs. Jacques Heath (Lily May Peel)  female  35.0      1   \n",
              "4                           Allen, Mr. William Henry    male  35.0      0   \n",
              "\n",
              "   Parch            Ticket     Fare Cabin Embarked  \n",
              "0      0         A/5 21171   7.2500   NaN        S  \n",
              "1      0          PC 17599  71.2833   C85        C  \n",
              "2      0  STON/O2. 3101282   7.9250   NaN        S  \n",
              "3      0            113803  53.1000  C123        S  \n",
              "4      0            373450   8.0500   NaN        S  "
            ],
            "text/html": [
              "\n",
              "  <div id=\"df-f905238b-06a3-43eb-9ecf-bb269634a389\">\n",
              "    <div class=\"colab-df-container\">\n",
              "      <div>\n",
              "<style scoped>\n",
              "    .dataframe tbody tr th:only-of-type {\n",
              "        vertical-align: middle;\n",
              "    }\n",
              "\n",
              "    .dataframe tbody tr th {\n",
              "        vertical-align: top;\n",
              "    }\n",
              "\n",
              "    .dataframe thead th {\n",
              "        text-align: right;\n",
              "    }\n",
              "</style>\n",
              "<table border=\"1\" class=\"dataframe\">\n",
              "  <thead>\n",
              "    <tr style=\"text-align: right;\">\n",
              "      <th></th>\n",
              "      <th>PassengerId</th>\n",
              "      <th>Survived</th>\n",
              "      <th>Pclass</th>\n",
              "      <th>Name</th>\n",
              "      <th>Sex</th>\n",
              "      <th>Age</th>\n",
              "      <th>SibSp</th>\n",
              "      <th>Parch</th>\n",
              "      <th>Ticket</th>\n",
              "      <th>Fare</th>\n",
              "      <th>Cabin</th>\n",
              "      <th>Embarked</th>\n",
              "    </tr>\n",
              "  </thead>\n",
              "  <tbody>\n",
              "    <tr>\n",
              "      <th>0</th>\n",
              "      <td>1</td>\n",
              "      <td>0</td>\n",
              "      <td>3</td>\n",
              "      <td>Braund, Mr. Owen Harris</td>\n",
              "      <td>male</td>\n",
              "      <td>22.0</td>\n",
              "      <td>1</td>\n",
              "      <td>0</td>\n",
              "      <td>A/5 21171</td>\n",
              "      <td>7.2500</td>\n",
              "      <td>NaN</td>\n",
              "      <td>S</td>\n",
              "    </tr>\n",
              "    <tr>\n",
              "      <th>1</th>\n",
              "      <td>2</td>\n",
              "      <td>1</td>\n",
              "      <td>1</td>\n",
              "      <td>Cumings, Mrs. John Bradley (Florence Briggs Th...</td>\n",
              "      <td>female</td>\n",
              "      <td>38.0</td>\n",
              "      <td>1</td>\n",
              "      <td>0</td>\n",
              "      <td>PC 17599</td>\n",
              "      <td>71.2833</td>\n",
              "      <td>C85</td>\n",
              "      <td>C</td>\n",
              "    </tr>\n",
              "    <tr>\n",
              "      <th>2</th>\n",
              "      <td>3</td>\n",
              "      <td>1</td>\n",
              "      <td>3</td>\n",
              "      <td>Heikkinen, Miss. Laina</td>\n",
              "      <td>female</td>\n",
              "      <td>26.0</td>\n",
              "      <td>0</td>\n",
              "      <td>0</td>\n",
              "      <td>STON/O2. 3101282</td>\n",
              "      <td>7.9250</td>\n",
              "      <td>NaN</td>\n",
              "      <td>S</td>\n",
              "    </tr>\n",
              "    <tr>\n",
              "      <th>3</th>\n",
              "      <td>4</td>\n",
              "      <td>1</td>\n",
              "      <td>1</td>\n",
              "      <td>Futrelle, Mrs. Jacques Heath (Lily May Peel)</td>\n",
              "      <td>female</td>\n",
              "      <td>35.0</td>\n",
              "      <td>1</td>\n",
              "      <td>0</td>\n",
              "      <td>113803</td>\n",
              "      <td>53.1000</td>\n",
              "      <td>C123</td>\n",
              "      <td>S</td>\n",
              "    </tr>\n",
              "    <tr>\n",
              "      <th>4</th>\n",
              "      <td>5</td>\n",
              "      <td>0</td>\n",
              "      <td>3</td>\n",
              "      <td>Allen, Mr. William Henry</td>\n",
              "      <td>male</td>\n",
              "      <td>35.0</td>\n",
              "      <td>0</td>\n",
              "      <td>0</td>\n",
              "      <td>373450</td>\n",
              "      <td>8.0500</td>\n",
              "      <td>NaN</td>\n",
              "      <td>S</td>\n",
              "    </tr>\n",
              "  </tbody>\n",
              "</table>\n",
              "</div>\n",
              "      <button class=\"colab-df-convert\" onclick=\"convertToInteractive('df-f905238b-06a3-43eb-9ecf-bb269634a389')\"\n",
              "              title=\"Convert this dataframe to an interactive table.\"\n",
              "              style=\"display:none;\">\n",
              "        \n",
              "  <svg xmlns=\"http://www.w3.org/2000/svg\" height=\"24px\"viewBox=\"0 0 24 24\"\n",
              "       width=\"24px\">\n",
              "    <path d=\"M0 0h24v24H0V0z\" fill=\"none\"/>\n",
              "    <path d=\"M18.56 5.44l.94 2.06.94-2.06 2.06-.94-2.06-.94-.94-2.06-.94 2.06-2.06.94zm-11 1L8.5 8.5l.94-2.06 2.06-.94-2.06-.94L8.5 2.5l-.94 2.06-2.06.94zm10 10l.94 2.06.94-2.06 2.06-.94-2.06-.94-.94-2.06-.94 2.06-2.06.94z\"/><path d=\"M17.41 7.96l-1.37-1.37c-.4-.4-.92-.59-1.43-.59-.52 0-1.04.2-1.43.59L10.3 9.45l-7.72 7.72c-.78.78-.78 2.05 0 2.83L4 21.41c.39.39.9.59 1.41.59.51 0 1.02-.2 1.41-.59l7.78-7.78 2.81-2.81c.8-.78.8-2.07 0-2.86zM5.41 20L4 18.59l7.72-7.72 1.47 1.35L5.41 20z\"/>\n",
              "  </svg>\n",
              "      </button>\n",
              "      \n",
              "  <style>\n",
              "    .colab-df-container {\n",
              "      display:flex;\n",
              "      flex-wrap:wrap;\n",
              "      gap: 12px;\n",
              "    }\n",
              "\n",
              "    .colab-df-convert {\n",
              "      background-color: #E8F0FE;\n",
              "      border: none;\n",
              "      border-radius: 50%;\n",
              "      cursor: pointer;\n",
              "      display: none;\n",
              "      fill: #1967D2;\n",
              "      height: 32px;\n",
              "      padding: 0 0 0 0;\n",
              "      width: 32px;\n",
              "    }\n",
              "\n",
              "    .colab-df-convert:hover {\n",
              "      background-color: #E2EBFA;\n",
              "      box-shadow: 0px 1px 2px rgba(60, 64, 67, 0.3), 0px 1px 3px 1px rgba(60, 64, 67, 0.15);\n",
              "      fill: #174EA6;\n",
              "    }\n",
              "\n",
              "    [theme=dark] .colab-df-convert {\n",
              "      background-color: #3B4455;\n",
              "      fill: #D2E3FC;\n",
              "    }\n",
              "\n",
              "    [theme=dark] .colab-df-convert:hover {\n",
              "      background-color: #434B5C;\n",
              "      box-shadow: 0px 1px 3px 1px rgba(0, 0, 0, 0.15);\n",
              "      filter: drop-shadow(0px 1px 2px rgba(0, 0, 0, 0.3));\n",
              "      fill: #FFFFFF;\n",
              "    }\n",
              "  </style>\n",
              "\n",
              "      <script>\n",
              "        const buttonEl =\n",
              "          document.querySelector('#df-f905238b-06a3-43eb-9ecf-bb269634a389 button.colab-df-convert');\n",
              "        buttonEl.style.display =\n",
              "          google.colab.kernel.accessAllowed ? 'block' : 'none';\n",
              "\n",
              "        async function convertToInteractive(key) {\n",
              "          const element = document.querySelector('#df-f905238b-06a3-43eb-9ecf-bb269634a389');\n",
              "          const dataTable =\n",
              "            await google.colab.kernel.invokeFunction('convertToInteractive',\n",
              "                                                     [key], {});\n",
              "          if (!dataTable) return;\n",
              "\n",
              "          const docLinkHtml = 'Like what you see? Visit the ' +\n",
              "            '<a target=\"_blank\" href=https://colab.research.google.com/notebooks/data_table.ipynb>data table notebook</a>'\n",
              "            + ' to learn more about interactive tables.';\n",
              "          element.innerHTML = '';\n",
              "          dataTable['output_type'] = 'display_data';\n",
              "          await google.colab.output.renderOutput(dataTable, element);\n",
              "          const docLink = document.createElement('div');\n",
              "          docLink.innerHTML = docLinkHtml;\n",
              "          element.appendChild(docLink);\n",
              "        }\n",
              "      </script>\n",
              "    </div>\n",
              "  </div>\n",
              "  "
            ]
          },
          "metadata": {},
          "execution_count": 2
        }
      ],
      "source": [
        "data = pd.read_csv('data.csv')\n",
        "data.head()"
      ]
    },
    {
      "cell_type": "code",
      "execution_count": 3,
      "metadata": {
        "id": "1t_lbuz_50dD",
        "colab": {
          "base_uri": "https://localhost:8080/"
        },
        "outputId": "e97fa425-f929-476b-ab44-dd2a2e3dc252"
      },
      "outputs": [
        {
          "output_type": "stream",
          "name": "stdout",
          "text": [
            "Рядки: 891\n"
          ]
        }
      ],
      "source": [
        "n_records = data.shape[0]\n",
        "print(\"Рядки:\", n_records)"
      ]
    },
    {
      "cell_type": "code",
      "execution_count": 4,
      "metadata": {
        "id": "2ofuwwsQ50dF",
        "colab": {
          "base_uri": "https://localhost:8080/"
        },
        "outputId": "d02bc955-eebc-4c93-c04a-2649898bdb07"
      },
      "outputs": [
        {
          "output_type": "stream",
          "name": "stdout",
          "text": [
            "0    549\n",
            "1    342\n",
            "Name: Survived, dtype: int64\n"
          ]
        }
      ],
      "source": [
        "survived = data['Survived'].value_counts()\n",
        "print(survived)"
      ]
    },
    {
      "cell_type": "markdown",
      "metadata": {
        "id": "BcuG67lk50dG"
      },
      "source": [
        "Для простоты исключите пассажиров с неизвестным возрастом и заново перенумеруйте строки\n",
        "\n",
        "*Функции, которые могут пригодиться при решении: `.dropna(subset=['Age']), .reset_index(drop=True)`*"
      ]
    },
    {
      "cell_type": "code",
      "execution_count": 5,
      "metadata": {
        "id": "BgjtzHFp50dH",
        "colab": {
          "base_uri": "https://localhost:8080/",
          "height": 206
        },
        "outputId": "60793ac8-ef23-42df-92d1-717b8930f398"
      },
      "outputs": [
        {
          "output_type": "execute_result",
          "data": {
            "text/plain": [
              "   PassengerId  Survived  Pclass  \\\n",
              "0            1         0       3   \n",
              "1            2         1       1   \n",
              "2            3         1       3   \n",
              "3            4         1       1   \n",
              "4            5         0       3   \n",
              "\n",
              "                                                Name     Sex   Age  SibSp  \\\n",
              "0                            Braund, Mr. Owen Harris    male  22.0      1   \n",
              "1  Cumings, Mrs. John Bradley (Florence Briggs Th...  female  38.0      1   \n",
              "2                             Heikkinen, Miss. Laina  female  26.0      0   \n",
              "3       Futrelle, Mrs. Jacques Heath (Lily May Peel)  female  35.0      1   \n",
              "4                           Allen, Mr. William Henry    male  35.0      0   \n",
              "\n",
              "   Parch            Ticket     Fare Cabin Embarked  \n",
              "0      0         A/5 21171   7.2500   NaN        S  \n",
              "1      0          PC 17599  71.2833   C85        C  \n",
              "2      0  STON/O2. 3101282   7.9250   NaN        S  \n",
              "3      0            113803  53.1000  C123        S  \n",
              "4      0            373450   8.0500   NaN        S  "
            ],
            "text/html": [
              "\n",
              "  <div id=\"df-159e6c4f-2114-4968-9f31-479fb33405a1\">\n",
              "    <div class=\"colab-df-container\">\n",
              "      <div>\n",
              "<style scoped>\n",
              "    .dataframe tbody tr th:only-of-type {\n",
              "        vertical-align: middle;\n",
              "    }\n",
              "\n",
              "    .dataframe tbody tr th {\n",
              "        vertical-align: top;\n",
              "    }\n",
              "\n",
              "    .dataframe thead th {\n",
              "        text-align: right;\n",
              "    }\n",
              "</style>\n",
              "<table border=\"1\" class=\"dataframe\">\n",
              "  <thead>\n",
              "    <tr style=\"text-align: right;\">\n",
              "      <th></th>\n",
              "      <th>PassengerId</th>\n",
              "      <th>Survived</th>\n",
              "      <th>Pclass</th>\n",
              "      <th>Name</th>\n",
              "      <th>Sex</th>\n",
              "      <th>Age</th>\n",
              "      <th>SibSp</th>\n",
              "      <th>Parch</th>\n",
              "      <th>Ticket</th>\n",
              "      <th>Fare</th>\n",
              "      <th>Cabin</th>\n",
              "      <th>Embarked</th>\n",
              "    </tr>\n",
              "  </thead>\n",
              "  <tbody>\n",
              "    <tr>\n",
              "      <th>0</th>\n",
              "      <td>1</td>\n",
              "      <td>0</td>\n",
              "      <td>3</td>\n",
              "      <td>Braund, Mr. Owen Harris</td>\n",
              "      <td>male</td>\n",
              "      <td>22.0</td>\n",
              "      <td>1</td>\n",
              "      <td>0</td>\n",
              "      <td>A/5 21171</td>\n",
              "      <td>7.2500</td>\n",
              "      <td>NaN</td>\n",
              "      <td>S</td>\n",
              "    </tr>\n",
              "    <tr>\n",
              "      <th>1</th>\n",
              "      <td>2</td>\n",
              "      <td>1</td>\n",
              "      <td>1</td>\n",
              "      <td>Cumings, Mrs. John Bradley (Florence Briggs Th...</td>\n",
              "      <td>female</td>\n",
              "      <td>38.0</td>\n",
              "      <td>1</td>\n",
              "      <td>0</td>\n",
              "      <td>PC 17599</td>\n",
              "      <td>71.2833</td>\n",
              "      <td>C85</td>\n",
              "      <td>C</td>\n",
              "    </tr>\n",
              "    <tr>\n",
              "      <th>2</th>\n",
              "      <td>3</td>\n",
              "      <td>1</td>\n",
              "      <td>3</td>\n",
              "      <td>Heikkinen, Miss. Laina</td>\n",
              "      <td>female</td>\n",
              "      <td>26.0</td>\n",
              "      <td>0</td>\n",
              "      <td>0</td>\n",
              "      <td>STON/O2. 3101282</td>\n",
              "      <td>7.9250</td>\n",
              "      <td>NaN</td>\n",
              "      <td>S</td>\n",
              "    </tr>\n",
              "    <tr>\n",
              "      <th>3</th>\n",
              "      <td>4</td>\n",
              "      <td>1</td>\n",
              "      <td>1</td>\n",
              "      <td>Futrelle, Mrs. Jacques Heath (Lily May Peel)</td>\n",
              "      <td>female</td>\n",
              "      <td>35.0</td>\n",
              "      <td>1</td>\n",
              "      <td>0</td>\n",
              "      <td>113803</td>\n",
              "      <td>53.1000</td>\n",
              "      <td>C123</td>\n",
              "      <td>S</td>\n",
              "    </tr>\n",
              "    <tr>\n",
              "      <th>4</th>\n",
              "      <td>5</td>\n",
              "      <td>0</td>\n",
              "      <td>3</td>\n",
              "      <td>Allen, Mr. William Henry</td>\n",
              "      <td>male</td>\n",
              "      <td>35.0</td>\n",
              "      <td>0</td>\n",
              "      <td>0</td>\n",
              "      <td>373450</td>\n",
              "      <td>8.0500</td>\n",
              "      <td>NaN</td>\n",
              "      <td>S</td>\n",
              "    </tr>\n",
              "  </tbody>\n",
              "</table>\n",
              "</div>\n",
              "      <button class=\"colab-df-convert\" onclick=\"convertToInteractive('df-159e6c4f-2114-4968-9f31-479fb33405a1')\"\n",
              "              title=\"Convert this dataframe to an interactive table.\"\n",
              "              style=\"display:none;\">\n",
              "        \n",
              "  <svg xmlns=\"http://www.w3.org/2000/svg\" height=\"24px\"viewBox=\"0 0 24 24\"\n",
              "       width=\"24px\">\n",
              "    <path d=\"M0 0h24v24H0V0z\" fill=\"none\"/>\n",
              "    <path d=\"M18.56 5.44l.94 2.06.94-2.06 2.06-.94-2.06-.94-.94-2.06-.94 2.06-2.06.94zm-11 1L8.5 8.5l.94-2.06 2.06-.94-2.06-.94L8.5 2.5l-.94 2.06-2.06.94zm10 10l.94 2.06.94-2.06 2.06-.94-2.06-.94-.94-2.06-.94 2.06-2.06.94z\"/><path d=\"M17.41 7.96l-1.37-1.37c-.4-.4-.92-.59-1.43-.59-.52 0-1.04.2-1.43.59L10.3 9.45l-7.72 7.72c-.78.78-.78 2.05 0 2.83L4 21.41c.39.39.9.59 1.41.59.51 0 1.02-.2 1.41-.59l7.78-7.78 2.81-2.81c.8-.78.8-2.07 0-2.86zM5.41 20L4 18.59l7.72-7.72 1.47 1.35L5.41 20z\"/>\n",
              "  </svg>\n",
              "      </button>\n",
              "      \n",
              "  <style>\n",
              "    .colab-df-container {\n",
              "      display:flex;\n",
              "      flex-wrap:wrap;\n",
              "      gap: 12px;\n",
              "    }\n",
              "\n",
              "    .colab-df-convert {\n",
              "      background-color: #E8F0FE;\n",
              "      border: none;\n",
              "      border-radius: 50%;\n",
              "      cursor: pointer;\n",
              "      display: none;\n",
              "      fill: #1967D2;\n",
              "      height: 32px;\n",
              "      padding: 0 0 0 0;\n",
              "      width: 32px;\n",
              "    }\n",
              "\n",
              "    .colab-df-convert:hover {\n",
              "      background-color: #E2EBFA;\n",
              "      box-shadow: 0px 1px 2px rgba(60, 64, 67, 0.3), 0px 1px 3px 1px rgba(60, 64, 67, 0.15);\n",
              "      fill: #174EA6;\n",
              "    }\n",
              "\n",
              "    [theme=dark] .colab-df-convert {\n",
              "      background-color: #3B4455;\n",
              "      fill: #D2E3FC;\n",
              "    }\n",
              "\n",
              "    [theme=dark] .colab-df-convert:hover {\n",
              "      background-color: #434B5C;\n",
              "      box-shadow: 0px 1px 3px 1px rgba(0, 0, 0, 0.15);\n",
              "      filter: drop-shadow(0px 1px 2px rgba(0, 0, 0, 0.3));\n",
              "      fill: #FFFFFF;\n",
              "    }\n",
              "  </style>\n",
              "\n",
              "      <script>\n",
              "        const buttonEl =\n",
              "          document.querySelector('#df-159e6c4f-2114-4968-9f31-479fb33405a1 button.colab-df-convert');\n",
              "        buttonEl.style.display =\n",
              "          google.colab.kernel.accessAllowed ? 'block' : 'none';\n",
              "\n",
              "        async function convertToInteractive(key) {\n",
              "          const element = document.querySelector('#df-159e6c4f-2114-4968-9f31-479fb33405a1');\n",
              "          const dataTable =\n",
              "            await google.colab.kernel.invokeFunction('convertToInteractive',\n",
              "                                                     [key], {});\n",
              "          if (!dataTable) return;\n",
              "\n",
              "          const docLinkHtml = 'Like what you see? Visit the ' +\n",
              "            '<a target=\"_blank\" href=https://colab.research.google.com/notebooks/data_table.ipynb>data table notebook</a>'\n",
              "            + ' to learn more about interactive tables.';\n",
              "          element.innerHTML = '';\n",
              "          dataTable['output_type'] = 'display_data';\n",
              "          await google.colab.output.renderOutput(dataTable, element);\n",
              "          const docLink = document.createElement('div');\n",
              "          docLink.innerHTML = docLinkHtml;\n",
              "          element.appendChild(docLink);\n",
              "        }\n",
              "      </script>\n",
              "    </div>\n",
              "  </div>\n",
              "  "
            ]
          },
          "metadata": {},
          "execution_count": 5
        }
      ],
      "source": [
        "without_missing_age = data.dropna(subset = ['Age'])\n",
        "without_missing_age = without_missing_age.reset_index(drop=True)\n",
        "without_missing_age.head()"
      ]
    },
    {
      "cell_type": "code",
      "source": [
        "n_records = without_missing_age.shape[0]\n",
        "print(\"Кількість записів:\", n_records)"
      ],
      "metadata": {
        "colab": {
          "base_uri": "https://localhost:8080/"
        },
        "id": "vchctnKBpEk6",
        "outputId": "ea319c33-e1dc-4f4f-c643-40b14f101064"
      },
      "execution_count": 6,
      "outputs": [
        {
          "output_type": "stream",
          "name": "stdout",
          "text": [
            "Кількість записів: 714\n"
          ]
        }
      ]
    },
    {
      "cell_type": "markdown",
      "metadata": {
        "id": "mbnaPRrF50dJ"
      },
      "source": [
        "## 2\n",
        "\n",
        "Постройте график рассеяния с возрастом в качестве оси абсцисс и ценой билета в качестве оси ординат. Отметьте красным — погибших, зеленым — спасшихся пассажиров. Постройте отдельно 2 графика: для женщин и для мужчин. \n",
        "\n",
        "Выполняется ли для данного множества гипотеза компактности?"
      ]
    },
    {
      "cell_type": "code",
      "execution_count": 7,
      "metadata": {
        "id": "eKY0WaYD50dK"
      },
      "outputs": [],
      "source": [
        "%matplotlib inline\n",
        "import matplotlib.pyplot as plt"
      ]
    },
    {
      "cell_type": "code",
      "execution_count": 8,
      "metadata": {
        "id": "FCPnn-BG50dL",
        "colab": {
          "base_uri": "https://localhost:8080/",
          "height": 927
        },
        "outputId": "4b0ec4a6-b23d-457e-bc64-0e0a572223f7"
      },
      "outputs": [
        {
          "output_type": "display_data",
          "data": {
            "text/plain": [
              "<Figure size 640x480 with 1 Axes>"
            ],
            "image/png": "[encoded data removed]"
          },
          "metadata": {}
        },
        {
          "output_type": "display_data",
          "data": {
            "text/plain": [
              "<Figure size 640x480 with 1 Axes>"
            ],
            "image/png": "[encoded data removed]"
          },
          "metadata": {}
        }
      ],
      "source": [
        "male_data = without_missing_age[without_missing_age['Sex'] == 'male']\n",
        "female_data = without_missing_age[without_missing_age['Sex'] == 'female']\n",
        "\n",
        "plt.scatter(male_data['Age'], male_data['Fare'], c=male_data['Survived'].map({0: 'red', 1: 'green'}))\n",
        "plt.xlabel('Age')\n",
        "plt.ylabel('Fare')\n",
        "plt.title('Scatter Plot for Males')\n",
        "plt.show()\n",
        "\n",
        "plt.scatter(female_data['Age'], female_data['Fare'], c=female_data['Survived'].map({0: 'red', 1: 'green'}))\n",
        "plt.xlabel('Age')\n",
        "plt.ylabel('Fare')\n",
        "plt.title('Scatter Plot for Females')\n",
        "plt.show()"
      ]
    },
    {
      "cell_type": "code",
      "execution_count": null,
      "metadata": {
        "id": "KSUBlySQ50dM"
      },
      "outputs": [],
      "source": [
        "# место для кода"
      ]
    },
    {
      "cell_type": "markdown",
      "metadata": {
        "id": "dL25IRjy50dN"
      },
      "source": [
        "## 3 \n",
        "\n",
        "Для построения модели нам понадобится метрика близости пассажиров. Запрограммируем функцию вычисления расстояния между пассажирами:"
      ]
    },
    {
      "cell_type": "code",
      "execution_count": 9,
      "metadata": {
        "id": "mQsyqaYL50dO"
      },
      "outputs": [],
      "source": [
        "def distance(a,b):\n",
        "    d = 0\n",
        "    d += abs(a['Pclass'] - b['Pclass'])\n",
        "    d += a['Sex'] != b['Sex']\n",
        "    d += abs(a['Age'] - b['Age'])\n",
        "    d += abs(a['SibSp'] - b['SibSp'])\n",
        "    d += abs(a['Parch'] - b['Parch'])\n",
        "    d += abs(a['Fare'] - b['Fare'])\n",
        "    d += a['Embarked'] != b['Embarked']\n",
        "    return d"
      ]
    },
    {
      "cell_type": "markdown",
      "metadata": {
        "id": "_UVxUXMo50dQ"
      },
      "source": [
        "Метод `KNeighborsClassifier` из библиотеки `sklearn` излишне требователен к типам данных. Запрограммируем метод `k` ближайших соседей вручную:"
      ]
    },
    {
      "cell_type": "code",
      "execution_count": 10,
      "metadata": {
        "id": "YCypV5eB50dQ"
      },
      "outputs": [],
      "source": [
        "import numpy as np\n",
        "import tqdm"
      ]
    },
    {
      "cell_type": "code",
      "execution_count": 11,
      "metadata": {
        "id": "D-hqia5450dR"
      },
      "outputs": [],
      "source": [
        "def myKNeighborsClassifier(learnData, K, passengerIndexForPrediction):\n",
        "    dists = np.zeros((learnData.shape[0] - 1, 2))\n",
        "    i = 0\n",
        "    for idx, row in learnData.iterrows():\n",
        "        if idx != passengerIndexForPrediction:  #LOO метод контроля ошибки\n",
        "            dists[i][0] = distance(learnData.loc[passengerIndexForPrediction,], row)\n",
        "            dists[i][1] = row['Survived']\n",
        "            i += 1\n",
        "    dists = sorted(dists, key = lambda pair: pair[0])\n",
        "    prediction = 0\n",
        "    for i in range(K): \n",
        "        prediction += dists[i][1]\n",
        "    prediction /= K\n",
        "    return round(prediction)"
      ]
    },
    {
      "cell_type": "markdown",
      "metadata": {
        "id": "zktv4deB50dS"
      },
      "source": [
        "Запустите предсказание для всех пассажиров судна и, используя LOO-контроль ошибки оцените качество классификации:"
      ]
    },
    {
      "cell_type": "code",
      "execution_count": 14,
      "metadata": {
        "id": "fn-YuRCm50dS",
        "colab": {
          "base_uri": "https://localhost:8080/"
        },
        "outputId": "a9c27bff-f03e-4375-e36b-548b563c8440"
      },
      "outputs": [
        {
          "output_type": "stream",
          "name": "stderr",
          "text": [
            "100%|██████████| 714/714 [03:12<00:00,  3.71it/s]"
          ]
        },
        {
          "output_type": "stream",
          "name": "stdout",
          "text": [
            "0.726890756302521\n"
          ]
        },
        {
          "output_type": "stream",
          "name": "stderr",
          "text": [
            "\n"
          ]
        }
      ],
      "source": [
        "\n",
        "# Суммарная точность классификации\n",
        "accuracy = 0\n",
        "for idx, row in tqdm.tqdm(without_missing_age.iterrows(), total=len(without_missing_age)):\n",
        "    accuracy += row['Survived'] == myKNeighborsClassifier(without_missing_age, 5, idx)\n",
        "print(accuracy/without_missing_age.shape[0])"
      ]
    },
    {
      "cell_type": "markdown",
      "source": [
        "Этот код вычисляет точность предсказания, сравнивая фактический статус спасения пассажира с предсказанным результатом для каждой строки without_missing_age. В конце, он делит суммарную точность на общее количество пассажиров для получения итоговой точности (accuracy)."
      ],
      "metadata": {
        "id": "cYcNp3KxylWr"
      }
    },
    {
      "cell_type": "markdown",
      "metadata": {
        "id": "7vzbrf6l50dT"
      },
      "source": [
        "Подберите слагаемые в метрике, их веса и количество соседей так, чтобы качество классификации было максимальным. \n",
        "\n",
        "Если функция на `python` работает долго, воспользуйтесь ее аналогом на \n",
        "С++:  `KNeighborsClassifier.cpp.` \n",
        "\n",
        "Компиляция на Linux выполняется командой \n",
        "\n",
        "    g++ -O2 KNeighborsClassifier.cpp -o  KNeighborsClassifier\n",
        "\n",
        "\n",
        "Запуск: \n",
        "\n",
        "    ./KNeighborsClassifier\n",
        "    \n",
        "Построившему метрику с наилучшим качеством: +5 бонусных баллов."
      ]
    },
    {
      "cell_type": "code",
      "source": [
        "best_accuracy = 0\n",
        "best_K = 0\n",
        "\n",
        "for K in range(1, 11):\n",
        "  accuracy = 0\n",
        "\n",
        "  for idx, row in tqdm.tqdm(without_missing_age.iterrows(), total=len(without_missing_age)):\n",
        "    accuracy += row['Survived'] == myKNeighborsClassifier(without_missing_age, K, idx)\n",
        "\n",
        "  accuracy /=len(without_missing_age)\n",
        "\n",
        "  if accuracy > best_accuracy:\n",
        "    best_accuracy = accuracy\n",
        "    best_K = K\n",
        "\n",
        "print(\"Найкраща якість класифікації:\", best_accuracy)\n",
        "print(\"Оптимальне K:\", best_K)"
      ],
      "metadata": {
        "colab": {
          "base_uri": "https://localhost:8080/"
        },
        "id": "r4wAKoJAtEh5",
        "outputId": "4d08dc3c-18e2-49a4-99a7-6cc1dcd2228b"
      },
      "execution_count": 19,
      "outputs": [
        {
          "metadata": {
            "tags": null
          },
          "name": "stderr",
          "output_type": "stream",
          "text": [
            "100%|██████████| 714/714 [02:50<00:00,  4.19it/s]\n",
            "100%|██████████| 714/714 [02:41<00:00,  4.42it/s]\n",
            "100%|██████████| 714/714 [02:40<00:00,  4.44it/s]\n",
            "100%|██████████| 714/714 [02:42<00:00,  4.40it/s]\n",
            "100%|██████████| 714/714 [02:45<00:00,  4.32it/s]\n",
            "100%|██████████| 714/714 [02:40<00:00,  4.46it/s]\n",
            "100%|██████████| 714/714 [02:41<00:00,  4.43it/s]\n",
            "100%|██████████| 714/714 [02:41<00:00,  4.43it/s]\n",
            "100%|██████████| 714/714 [02:43<00:00,  4.36it/s]\n",
            "100%|██████████| 714/714 [02:40<00:00,  4.46it/s]"
          ]
        },
        {
          "metadata": {
            "tags": null
          },
          "name": "stdout",
          "output_type": "stream",
          "text": [
            "Найкраща якість класифікації: 0.7366946778711485\n",
            "Оптимальне K: 9\n"
          ]
        },
        {
          "metadata": {
            "tags": null
          },
          "name": "stderr",
          "output_type": "stream",
          "text": [
            "\n"
          ]
        }
      ]
    },
    {
      "cell_type": "markdown",
      "source": [
        "Этот код выполняет цикл по значениям K от 1 до 10. Внутри вложенного цикла он вычисляет точность классификации для каждого пассажира в without_missing_age и суммирует количество правильных предсказаний. Затем он делит сумму на общее количество пассажиров для получения точности классификации. Если текущая точность классификации превышает лучшую точность, она обновляется, и соответствующее значение K сохраняется.\n",
        "\n",
        "В конце код выводит наилучшую точность классификации и оптимальное значение K.\n"
      ],
      "metadata": {
        "id": "U7LKHmURz-EP"
      }
    },
    {
      "cell_type": "markdown",
      "metadata": {
        "id": "UAeznoqg50dT"
      },
      "source": [
        "## 4\n",
        "\n",
        "Создайте копию функции `myKNeighborsClassifier` и измените ее так, чтобы она считала выступ объекта. Назовите ее `calcMargin`. \n",
        "\n",
        "Вычислите выступы для всех объектов и выведите информацию о пяти объектах с минимальным выступом (шумовых выбросах) и пяти объектах с максимальным выступом (эталонах). Объясните в комментариях полученные данные."
      ]
    },
    {
      "cell_type": "code",
      "execution_count": 20,
      "metadata": {
        "id": "GClXwO8o50dU",
        "colab": {
          "base_uri": "https://localhost:8080/"
        },
        "outputId": "929bef98-b707-4f72-9579-8ac050e52482"
      },
      "outputs": [
        {
          "output_type": "stream",
          "name": "stderr",
          "text": [
            "100%|██████████| 714/714 [02:02<00:00,  5.83it/s]"
          ]
        },
        {
          "output_type": "stream",
          "name": "stdout",
          "text": [
            "Пять объектов с минимальным выступом (шумовые выбросы):\n",
            "     PassengerId  Survived  Pclass                                Name   Sex  \\\n",
            "0              1         0       3             Braund, Mr. Owen Harris  male   \n",
            "170          213         0       3              Perkin, Mr. John Henry  male   \n",
            "577          726         0       3                 Oreskovic, Mr. Luka  male   \n",
            "665          834         0       3              Augustsson, Mr. Albert  male   \n",
            "44            60         0       3  Goodwin, Master. William Frederick  male   \n",
            "\n",
            "      Age  SibSp  Parch     Ticket     Fare Cabin Embarked  \n",
            "0    22.0      1      0  A/5 21171   7.2500   NaN        S  \n",
            "170  22.0      0      0  A/5 21174   7.2500   NaN        S  \n",
            "577  20.0      0      0     315094   8.6625   NaN        S  \n",
            "665  23.0      0      0     347468   7.8542   NaN        S  \n",
            "44   11.0      5      2    CA 2144  46.9000   NaN        S  \n",
            "\n",
            "Пять объектов с максимальным выступом (эталоны):\n",
            "     PassengerId  Survived  Pclass  \\\n",
            "235          292         1       1   \n",
            "609          764         1       1   \n",
            "402          506         0       1   \n",
            "163          206         0       3   \n",
            "280          349         1       3   \n",
            "\n",
            "                                           Name     Sex   Age  SibSp  Parch  \\\n",
            "235     Bishop, Mrs. Dickinson H (Helen Walton)  female  19.0      1      0   \n",
            "609   Carter, Mrs. William Ernest (Lucile Polk)  female  36.0      1      2   \n",
            "402  Penasco y Castellana, Mr. Victor de Satode    male  18.0      1      0   \n",
            "163                  Strom, Miss. Telma Matilda  female   2.0      0      1   \n",
            "280      Coutts, Master. William Loch \"William\"    male   3.0      1      1   \n",
            "\n",
            "         Ticket      Fare    Cabin Embarked  \n",
            "235       11967   91.0792      B49        C  \n",
            "609      113760  120.0000  B96 B98        S  \n",
            "402    PC 17758  108.9000      C65        C  \n",
            "163      347054   10.4625       G6        S  \n",
            "280  C.A. 37671   15.9000      NaN        S  \n"
          ]
        },
        {
          "output_type": "stream",
          "name": "stderr",
          "text": [
            "\n"
          ]
        }
      ],
      "source": [
        "import numpy as np\n",
        "\n",
        "def calcMargin(learnData, K, passengerIndexForPrediction):\n",
        "    dists = np.zeros((learnData.shape[0] - 1, 2))\n",
        "    i = 0\n",
        "    for idx, row in learnData.iterrows():\n",
        "        if idx != passengerIndexForPrediction:  # LOO метод контроля ошибки\n",
        "            dists[i][0] = distance(learnData.loc[passengerIndexForPrediction], row)\n",
        "            dists[i][1] = row['Survived']\n",
        "            i += 1\n",
        "    dists = sorted(dists, key=lambda pair: pair[0])\n",
        "    margin = 0\n",
        "    for i in range(K):\n",
        "        margin += dists[i][1]\n",
        "    margin /= K\n",
        "    return margin\n",
        "\n",
        "margins = []\n",
        "\n",
        "for idx, row in tqdm.tqdm(without_missing_age.iterrows(), total=len(without_missing_age)):\n",
        "    margin = calcMargin(without_missing_age, best_K, idx)\n",
        "    margins.append(margin)\n",
        "\n",
        "margins = np.array(margins)\n",
        "idx = np.argsort(margins)\n",
        "\n",
        "print('Пять объектов с минимальным выступом (шумовые выбросы):')\n",
        "print(without_missing_age.loc[idx[:5]])\n",
        "print('\\nПять объектов с максимальным выступом (эталоны):')\n",
        "print(without_missing_age.loc[idx[-5:]])\n"
      ]
    },
    {
      "cell_type": "markdown",
      "source": [
        "В этом коде добавлена функция calcMargin, которая вычисляет выступ объекта на основе метода k ближайших соседей. В основном цикле мы вычисляем выступы для каждого объекта в without_missing_age и сохраняем их в массив margins. Затем мы сортируем массив margins и используем индексы, возвращенные функцией np.argsort, для извлечения информации о пяти объектах с минимальным выступом (шумовых выбросах) и пяти объектах с максимальным выступом (эталонах)."
      ],
      "metadata": {
        "id": "BqLqrAZv0rHP"
      }
    },
    {
      "cell_type": "markdown",
      "metadata": {
        "id": "TL6pwoXk50dW"
      },
      "source": [
        "Это легче всего сделать с помощью функции `np.argsort`, возвращающей индексы элементов в отсортированном ряду:"
      ]
    },
    {
      "cell_type": "code",
      "execution_count": null,
      "metadata": {
        "scrolled": true,
        "id": "cb81kuA350dX"
      },
      "outputs": [],
      "source": [
        "idx = np.argsort(margins)"
      ]
    },
    {
      "cell_type": "code",
      "execution_count": null,
      "metadata": {
        "id": "3cbax_iH50dX"
      },
      "outputs": [],
      "source": [
        "print('Белые вороны (аномалии)')\n",
        "data.loc[idx[:5],]"
      ]
    },
    {
      "cell_type": "code",
      "execution_count": null,
      "metadata": {
        "id": "MuLTU-0E50dY"
      },
      "outputs": [],
      "source": [
        "print('Эталоны (характерные объекты)')\n",
        "data.loc[idx[-5:],]"
      ]
    }
  ],
  "metadata": {
    "kernelspec": {
      "display_name": "Python 3",
      "language": "python",
      "name": "python3"
    },
    "language_info": {
      "codemirror_mode": {
        "name": "ipython",
        "version": 3
      },
      "file_extension": ".py",
      "mimetype": "text/x-python",
      "name": "python",
      "nbconvert_exporter": "python",
      "pygments_lexer": "ipython3",
      "version": "3.7.6"
    },
    "colab": {
      "provenance": []
    }
  },
  "nbformat": 4,
  "nbformat_minor": 0
}