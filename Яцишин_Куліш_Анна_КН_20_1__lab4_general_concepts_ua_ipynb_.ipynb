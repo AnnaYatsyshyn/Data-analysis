{
  "cells": [
    {
      "cell_type": "markdown",
      "metadata": {
        "id": "Unh0GTmQ4Jjd"
      },
      "source": [
        "### Лабораторна робота 4: основні поняття"
      ]
    },
    {
      "cell_type": "markdown",
      "metadata": {
        "id": "VQH-XGOc4Jjg"
      },
      "source": [
        "В даній роботі ми будемо працювати з даними про автомобілі, продані на аукціоні (`Carvana Car Prediction`). Цільовими ознаками тут є наявність прихованих продавцем істотних недоліків. \n",
        "\n",
        "Carvana &mdash; компанія-перекупщ автомобілів, відповідно, її задача &mdash; не допустити скупку автомобілів з прихованими недоліками, тому що в майбутньому їх важче продати."
      ]
    },
    {
      "cell_type": "markdown",
      "metadata": {
        "id": "5falt0sR4Jjh"
      },
      "source": [
        "## 1"
      ]
    },
    {
      "cell_type": "markdown",
      "metadata": {
        "id": "lm258Veu4Jjh"
      },
      "source": [
        "Завантажте дані про продані на аукціоні автомобілі. Перегляньте \"сирі\" дані. \n",
        "\n",
        "Перегляньте файл `DataDictionary-ru.txt` та зрозумійте, що означають стовпчики матриці. Виведіть статистику за стовпчиками.\n"
      ]
    },
    {
      "cell_type": "code",
      "execution_count": 8,
      "metadata": {
        "id": "SIePpeGV4Jji"
      },
      "outputs": [],
      "source": [
        "import pandas as pd"
      ]
    },
    {
      "cell_type": "code",
      "execution_count": 11,
      "metadata": {
        "colab": {
          "base_uri": "https://localhost:8080/",
          "height": 1000
        },
        "id": "QxgiInP-4Jjj",
        "outputId": "fe0dfb41-2866-455d-8300-81b96e4fd909"
      },
      "outputs": [
        {
          "output_type": "display_data",
          "data": {
            "text/plain": [
              "<IPython.core.display.HTML object>"
            ],
            "text/html": [
              "\n",
              "     <input type=\"file\" id=\"files-79b32a5a-c518-49da-84be-996b017eb7f6\" name=\"files[]\" multiple disabled\n",
              "        style=\"border:none\" />\n",
              "     <output id=\"result-79b32a5a-c518-49da-84be-996b017eb7f6\">\n",
              "      Upload widget is only available when the cell has been executed in the\n",
              "      current browser session. Please rerun this cell to enable.\n",
              "      </output>\n",
              "      <script>// Copyright 2017 Google LLC\n",
              "//\n",
              "// Licensed under the Apache License, Version 2.0 (the \"License\");\n",
              "// you may not use this file except in compliance with the License.\n",
              "// You may obtain a copy of the License at\n",
              "//\n",
              "//      http://www.apache.org/licenses/LICENSE-2.0\n",
              "//\n",
              "// Unless required by applicable law or agreed to in writing, software\n",
              "// distributed under the License is distributed on an \"AS IS\" BASIS,\n",
              "// WITHOUT WARRANTIES OR CONDITIONS OF ANY KIND, either express or implied.\n",
              "// See the License for the specific language governing permissions and\n",
              "// limitations under the License.\n",
              "\n",
              "/**\n",
              " * @fileoverview Helpers for google.colab Python module.\n",
              " */\n",
              "(function(scope) {\n",
              "function span(text, styleAttributes = {}) {\n",
              "  const element = document.createElement('span');\n",
              "  element.textContent = text;\n",
              "  for (const key of Object.keys(styleAttributes)) {\n",
              "    element.style[key] = styleAttributes[key];\n",
              "  }\n",
              "  return element;\n",
              "}\n",
              "\n",
              "// Max number of bytes which will be uploaded at a time.\n",
              "const MAX_PAYLOAD_SIZE = 100 * 1024;\n",
              "\n",
              "function _uploadFiles(inputId, outputId) {\n",
              "  const steps = uploadFilesStep(inputId, outputId);\n",
              "  const outputElement = document.getElementById(outputId);\n",
              "  // Cache steps on the outputElement to make it available for the next call\n",
              "  // to uploadFilesContinue from Python.\n",
              "  outputElement.steps = steps;\n",
              "\n",
              "  return _uploadFilesContinue(outputId);\n",
              "}\n",
              "\n",
              "// This is roughly an async generator (not supported in the browser yet),\n",
              "// where there are multiple asynchronous steps and the Python side is going\n",
              "// to poll for completion of each step.\n",
              "// This uses a Promise to block the python side on completion of each step,\n",
              "// then passes the result of the previous step as the input to the next step.\n",
              "function _uploadFilesContinue(outputId) {\n",
              "  const outputElement = document.getElementById(outputId);\n",
              "  const steps = outputElement.steps;\n",
              "\n",
              "  const next = steps.next(outputElement.lastPromiseValue);\n",
              "  return Promise.resolve(next.value.promise).then((value) => {\n",
              "    // Cache the last promise value to make it available to the next\n",
              "    // step of the generator.\n",
              "    outputElement.lastPromiseValue = value;\n",
              "    return next.value.response;\n",
              "  });\n",
              "}\n",
              "\n",
              "/**\n",
              " * Generator function which is called between each async step of the upload\n",
              " * process.\n",
              " * @param {string} inputId Element ID of the input file picker element.\n",
              " * @param {string} outputId Element ID of the output display.\n",
              " * @return {!Iterable<!Object>} Iterable of next steps.\n",
              " */\n",
              "function* uploadFilesStep(inputId, outputId) {\n",
              "  const inputElement = document.getElementById(inputId);\n",
              "  inputElement.disabled = false;\n",
              "\n",
              "  const outputElement = document.getElementById(outputId);\n",
              "  outputElement.innerHTML = '';\n",
              "\n",
              "  const pickedPromise = new Promise((resolve) => {\n",
              "    inputElement.addEventListener('change', (e) => {\n",
              "      resolve(e.target.files);\n",
              "    });\n",
              "  });\n",
              "\n",
              "  const cancel = document.createElement('button');\n",
              "  inputElement.parentElement.appendChild(cancel);\n",
              "  cancel.textContent = 'Cancel upload';\n",
              "  const cancelPromise = new Promise((resolve) => {\n",
              "    cancel.onclick = () => {\n",
              "      resolve(null);\n",
              "    };\n",
              "  });\n",
              "\n",
              "  // Wait for the user to pick the files.\n",
              "  const files = yield {\n",
              "    promise: Promise.race([pickedPromise, cancelPromise]),\n",
              "    response: {\n",
              "      action: 'starting',\n",
              "    }\n",
              "  };\n",
              "\n",
              "  cancel.remove();\n",
              "\n",
              "  // Disable the input element since further picks are not allowed.\n",
              "  inputElement.disabled = true;\n",
              "\n",
              "  if (!files) {\n",
              "    return {\n",
              "      response: {\n",
              "        action: 'complete',\n",
              "      }\n",
              "    };\n",
              "  }\n",
              "\n",
              "  for (const file of files) {\n",
              "    const li = document.createElement('li');\n",
              "    li.append(span(file.name, {fontWeight: 'bold'}));\n",
              "    li.append(span(\n",
              "        `(${file.type || 'n/a'}) - ${file.size} bytes, ` +\n",
              "        `last modified: ${\n",
              "            file.lastModifiedDate ? file.lastModifiedDate.toLocaleDateString() :\n",
              "                                    'n/a'} - `));\n",
              "    const percent = span('0% done');\n",
              "    li.appendChild(percent);\n",
              "\n",
              "    outputElement.appendChild(li);\n",
              "\n",
              "    const fileDataPromise = new Promise((resolve) => {\n",
              "      const reader = new FileReader();\n",
              "      reader.onload = (e) => {\n",
              "        resolve(e.target.result);\n",
              "      };\n",
              "      reader.readAsArrayBuffer(file);\n",
              "    });\n",
              "    // Wait for the data to be ready.\n",
              "    let fileData = yield {\n",
              "      promise: fileDataPromise,\n",
              "      response: {\n",
              "        action: 'continue',\n",
              "      }\n",
              "    };\n",
              "\n",
              "    // Use a chunked sending to avoid message size limits. See b/62115660.\n",
              "    let position = 0;\n",
              "    do {\n",
              "      const length = Math.min(fileData.byteLength - position, MAX_PAYLOAD_SIZE);\n",
              "      const chunk = new Uint8Array(fileData, position, length);\n",
              "      position += length;\n",
              "\n",
              "      const base64 = btoa(String.fromCharCode.apply(null, chunk));\n",
              "      yield {\n",
              "        response: {\n",
              "          action: 'append',\n",
              "          file: file.name,\n",
              "          data: base64,\n",
              "        },\n",
              "      };\n",
              "\n",
              "      let percentDone = fileData.byteLength === 0 ?\n",
              "          100 :\n",
              "          Math.round((position / fileData.byteLength) * 100);\n",
              "      percent.textContent = `${percentDone}% done`;\n",
              "\n",
              "    } while (position < fileData.byteLength);\n",
              "  }\n",
              "\n",
              "  // All done.\n",
              "  yield {\n",
              "    response: {\n",
              "      action: 'complete',\n",
              "    }\n",
              "  };\n",
              "}\n",
              "\n",
              "scope.google = scope.google || {};\n",
              "scope.google.colab = scope.google.colab || {};\n",
              "scope.google.colab._files = {\n",
              "  _uploadFiles,\n",
              "  _uploadFilesContinue,\n",
              "};\n",
              "})(self);\n",
              "</script> "
            ]
          },
          "metadata": {}
        },
        {
          "output_type": "stream",
          "name": "stdout",
          "text": [
            "Saving data.csv to data.csv\n",
            "   RefId  IsBadBuy  PurchDate Auction  VehYear  VehicleAge   Make  \\\n",
            "0      1         0  12/7/2009   ADESA     2006           3  MAZDA   \n",
            "1      2         0  12/7/2009   ADESA     2004           5  DODGE   \n",
            "2      3         0  12/7/2009   ADESA     2005           4  DODGE   \n",
            "3      4         0  12/7/2009   ADESA     2004           5  DODGE   \n",
            "4      5         0  12/7/2009   ADESA     2005           4   FORD   \n",
            "\n",
            "                 Model Trim           SubModel  ...  \\\n",
            "0               MAZDA3    i         4D SEDAN I  ...   \n",
            "1  1500 RAM PICKUP 2WD   ST  QUAD CAB 4.7L SLT  ...   \n",
            "2           STRATUS V6  SXT   4D SEDAN SXT FFV  ...   \n",
            "3                 NEON  SXT           4D SEDAN  ...   \n",
            "4                FOCUS  ZX3       2D COUPE ZX3  ...   \n",
            "\n",
            "  MMRCurrentRetailAveragePrice MMRCurrentRetailCleanPrice  PRIMEUNIT AUCGUART  \\\n",
            "0                      11597.0                    12409.0        NaN      NaN   \n",
            "1                      11374.0                    12791.0        NaN      NaN   \n",
            "2                       7146.0                     8702.0        NaN      NaN   \n",
            "3                       4375.0                     5518.0        NaN      NaN   \n",
            "4                       6739.0                     7911.0        NaN      NaN   \n",
            "\n",
            "   BYRNO VNZIP1 VNST VehBCost  IsOnlineSale  WarrantyCost  \n",
            "0  21973  33619   FL   7100.0             0          1113  \n",
            "1  19638  33619   FL   7600.0             0          1053  \n",
            "2  19638  33619   FL   4900.0             0          1389  \n",
            "3  19638  33619   FL   4100.0             0           630  \n",
            "4  19638  33619   FL   4000.0             0          1020  \n",
            "\n",
            "[5 rows x 34 columns]\n",
            "              RefId      IsBadBuy       VehYear    VehicleAge   WheelTypeID  \\\n",
            "count  72983.000000  72983.000000  72983.000000  72983.000000  69814.000000   \n",
            "mean   36511.428497      0.122988   2005.343052      4.176644      1.494299   \n",
            "std    21077.241302      0.328425      1.731252      1.712210      0.521290   \n",
            "min        1.000000      0.000000   2001.000000      0.000000      0.000000   \n",
            "25%    18257.500000      0.000000   2004.000000      3.000000      1.000000   \n",
            "50%    36514.000000      0.000000   2005.000000      4.000000      1.000000   \n",
            "75%    54764.500000      0.000000   2007.000000      5.000000      2.000000   \n",
            "max    73014.000000      1.000000   2010.000000      9.000000      3.000000   \n",
            "\n",
            "              VehOdo  MMRAcquisitionAuctionAveragePrice  \\\n",
            "count   72983.000000                       72965.000000   \n",
            "mean    71499.995917                        6128.909217   \n",
            "std     14578.913128                        2461.992768   \n",
            "min      4825.000000                           0.000000   \n",
            "25%     61837.000000                        4273.000000   \n",
            "50%     73361.000000                        6097.000000   \n",
            "75%     82436.000000                        7765.000000   \n",
            "max    115717.000000                       35722.000000   \n",
            "\n",
            "       MMRAcquisitionAuctionCleanPrice  MMRAcquisitionRetailAveragePrice  \\\n",
            "count                     72965.000000                      72965.000000   \n",
            "mean                       7373.636031                       8497.034332   \n",
            "std                        2722.491986                       3156.285284   \n",
            "min                           0.000000                          0.000000   \n",
            "25%                        5406.000000                       6280.000000   \n",
            "50%                        7303.000000                       8444.000000   \n",
            "75%                        9021.000000                      10651.000000   \n",
            "max                       36859.000000                      39080.000000   \n",
            "\n",
            "       MMRAcquisitonRetailCleanPrice  MMRCurrentAuctionAveragePrice  \\\n",
            "count                   72965.000000                   72668.000000   \n",
            "mean                     9850.928240                    6132.081287   \n",
            "std                      3385.789541                    2434.567723   \n",
            "min                         0.000000                       0.000000   \n",
            "25%                      7493.000000                    4275.000000   \n",
            "50%                      9789.000000                    6062.000000   \n",
            "75%                     12088.000000                    7736.000000   \n",
            "max                     41482.000000                   35722.000000   \n",
            "\n",
            "       MMRCurrentAuctionCleanPrice  MMRCurrentRetailAveragePrice  \\\n",
            "count                 72668.000000                  72668.000000   \n",
            "mean                   7390.681827                   8775.723331   \n",
            "std                    2686.248852                   3090.702941   \n",
            "min                       0.000000                      0.000000   \n",
            "25%                    5414.000000                   6536.000000   \n",
            "50%                    7313.000000                   8729.000000   \n",
            "75%                    9013.000000                  10911.000000   \n",
            "max                   36859.000000                  39080.000000   \n",
            "\n",
            "       MMRCurrentRetailCleanPrice         BYRNO        VNZIP1      VehBCost  \\\n",
            "count                72668.000000  72983.000000  72983.000000  72983.000000   \n",
            "mean                 10145.385314  26345.842155  58043.059945   6730.934326   \n",
            "std                   3310.254351  25717.351219  26151.640415   1767.846435   \n",
            "min                      0.000000    835.000000   2764.000000      1.000000   \n",
            "25%                   7784.000000  17212.000000  32124.000000   5435.000000   \n",
            "50%                  10103.000000  19662.000000  73108.000000   6700.000000   \n",
            "75%                  12309.000000  22808.000000  80022.000000   7900.000000   \n",
            "max                  41062.000000  99761.000000  99224.000000  45469.000000   \n",
            "\n",
            "       IsOnlineSale  WarrantyCost  \n",
            "count  72983.000000  72983.000000  \n",
            "mean       0.025280   1276.580985  \n",
            "std        0.156975    598.846788  \n",
            "min        0.000000    462.000000  \n",
            "25%        0.000000    837.000000  \n",
            "50%        0.000000   1155.000000  \n",
            "75%        0.000000   1623.000000  \n",
            "max        1.000000   7498.000000  \n",
            "<class 'pandas.core.frame.DataFrame'>\n",
            "RangeIndex: 72983 entries, 0 to 72982\n",
            "Data columns (total 34 columns):\n",
            " #   Column                             Non-Null Count  Dtype  \n",
            "---  ------                             --------------  -----  \n",
            " 0   RefId                              72983 non-null  int64  \n",
            " 1   IsBadBuy                           72983 non-null  int64  \n",
            " 2   PurchDate                          72983 non-null  object \n",
            " 3   Auction                            72983 non-null  object \n",
            " 4   VehYear                            72983 non-null  int64  \n",
            " 5   VehicleAge                         72983 non-null  int64  \n",
            " 6   Make                               72983 non-null  object \n",
            " 7   Model                              72983 non-null  object \n",
            " 8   Trim                               70623 non-null  object \n",
            " 9   SubModel                           72975 non-null  object \n",
            " 10  Color                              72975 non-null  object \n",
            " 11  Transmission                       72974 non-null  object \n",
            " 12  WheelTypeID                        69814 non-null  float64\n",
            " 13  WheelType                          69809 non-null  object \n",
            " 14  VehOdo                             72983 non-null  int64  \n",
            " 15  Nationality                        72978 non-null  object \n",
            " 16  Size                               72978 non-null  object \n",
            " 17  TopThreeAmericanName               72978 non-null  object \n",
            " 18  MMRAcquisitionAuctionAveragePrice  72965 non-null  float64\n",
            " 19  MMRAcquisitionAuctionCleanPrice    72965 non-null  float64\n",
            " 20  MMRAcquisitionRetailAveragePrice   72965 non-null  float64\n",
            " 21  MMRAcquisitonRetailCleanPrice      72965 non-null  float64\n",
            " 22  MMRCurrentAuctionAveragePrice      72668 non-null  float64\n",
            " 23  MMRCurrentAuctionCleanPrice        72668 non-null  float64\n",
            " 24  MMRCurrentRetailAveragePrice       72668 non-null  float64\n",
            " 25  MMRCurrentRetailCleanPrice         72668 non-null  float64\n",
            " 26  PRIMEUNIT                          3419 non-null   object \n",
            " 27  AUCGUART                           3419 non-null   object \n",
            " 28  BYRNO                              72983 non-null  int64  \n",
            " 29  VNZIP1                             72983 non-null  int64  \n",
            " 30  VNST                               72983 non-null  object \n",
            " 31  VehBCost                           72983 non-null  float64\n",
            " 32  IsOnlineSale                       72983 non-null  int64  \n",
            " 33  WarrantyCost                       72983 non-null  int64  \n",
            "dtypes: float64(10), int64(9), object(15)\n",
            "memory usage: 18.9+ MB\n",
            "None\n"
          ]
        }
      ],
      "source": [
        "import io\n",
        "\n",
        "from google.colab import files\n",
        "uploaded = files.upload()\n",
        "\n",
        "data = pd.read_csv(io.StringIO(uploaded['data.csv'].decode('utf-8')))\n",
        "\n",
        "# Виведення перших декількох рядків даних\n",
        "print(data.head())\n",
        "# Виведення статистики за стовпчиками\n",
        "print(data.describe())\n",
        "\n",
        "print(data.info())\n"
      ]
    },
    {
      "cell_type": "markdown",
      "metadata": {
        "id": "gqRN4O434Jjj"
      },
      "source": [
        "## 2\n",
        "\n",
        "Побудуйте графік розсіювання з пробігом в якості вісі абсцис та ціною `MMRCurrentRetailAveragePrice` в якості вісі ординат. Автомобілі без недоліків відмітьте зеленим кольором, з прихованими недоліками - червоним."
      ]
    },
    {
      "cell_type": "code",
      "execution_count": 12,
      "metadata": {
        "id": "zey81rdp4Jjj"
      },
      "outputs": [],
      "source": [
        "%matplotlib inline\n",
        "import matplotlib.pyplot as plt\n",
        "\n"
      ]
    },
    {
      "cell_type": "code",
      "execution_count": 13,
      "metadata": {
        "colab": {
          "base_uri": "https://localhost:8080/",
          "height": 472
        },
        "id": "LIBOw57m4Jjk",
        "outputId": "ae18443d-8563-419e-e87f-53436b7519a6"
      },
      "outputs": [
        {
          "output_type": "display_data",
          "data": {
            "text/plain": [
              "<Figure size 640x480 with 1 Axes>"
            ],
            "image/png": "[encoded data removed]"
          },
          "metadata": {}
        }
      ],
      "source": [
        "\n",
        "\n",
        "# фільтруємо автомобілі з недоліками та без них\n",
        "good_cars = data[data['IsBadBuy'] == 0]\n",
        "bad_cars = data[data['IsBadBuy'] == 1]\n",
        "\n",
        "# будуємо графік розсіювання\n",
        "plt.scatter(good_cars['VehOdo'], good_cars['MMRCurrentRetailAveragePrice'], color='green', label='good cars')\n",
        "plt.scatter(bad_cars['VehOdo'], bad_cars['MMRCurrentRetailAveragePrice'], color='red', label='bad cars')\n",
        "\n",
        "plt.title('Scatter plot of VehOdo vs MMRCurrentRetailAveragePrice')\n",
        "plt.xlabel('VehOdo')\n",
        "plt.ylabel('MMRCurrentRetailAveragePrice')\n",
        "plt.legend()\n",
        "\n",
        "plt.show()"
      ]
    },
    {
      "cell_type": "markdown",
      "metadata": {
        "id": "8QchcOrq4Jjk"
      },
      "source": [
        "# Регресія"
      ]
    },
    {
      "cell_type": "markdown",
      "metadata": {
        "id": "w5s8GwGu4Jjk"
      },
      "source": [
        "## 3a\n",
        "\n",
        "Іспортуйте із бібліотеки `sklearn` всі моделі машинного навчання:\n",
        "\n",
        "`from sklearn import *`\n",
        "\n",
        "Трактуючи задачу про прогнозування наявності недоліків як задачі регресії, натренуйте лінійну модель [`LinearRegression`](https://scikit-learn.org/stable/modules/generated/sklearn.linear_model.LinearRegression.html) на якійсь підмножині ознак (наприклад, тех самих `VehOdo` и `MMRCurrentRetailAveragePrice`). \n",
        "\n",
        "З якою проблемою ви затовхнулись? Яку способи її рішення ви можете запропонувати?\n",
        "\n",
        "*Функції, що можуть бути корисними при рішенні: `.fit(), .loc[], pd.notnull()`*\n",
        "\n",
        "*Сотворення моделі:* `model1 = linear_model.LinearRegression()`\n",
        "\n",
        "*Тренування:*\n",
        "`model1.fit(x, y)`\n",
        "\n"
      ]
    },
    {
      "cell_type": "code",
      "execution_count": 14,
      "metadata": {
        "colab": {
          "base_uri": "https://localhost:8080/",
          "height": 75
        },
        "id": "SHguDrmE4Jjk",
        "outputId": "408c7185-e6e7-465d-e82f-83c0a75f8428"
      },
      "outputs": [
        {
          "output_type": "execute_result",
          "data": {
            "text/plain": [
              "LinearRegression()"
            ],
            "text/html": [
              "<style>#sk-container-id-1 {color: black;background-color: white;}#sk-container-id-1 pre{padding: 0;}#sk-container-id-1 div.sk-toggleable {background-color: white;}#sk-container-id-1 label.sk-toggleable__label {cursor: pointer;display: block;width: 100%;margin-bottom: 0;padding: 0.3em;box-sizing: border-box;text-align: center;}#sk-container-id-1 label.sk-toggleable__label-arrow:before {content: \"▸\";float: left;margin-right: 0.25em;color: #696969;}#sk-container-id-1 label.sk-toggleable__label-arrow:hover:before {color: black;}#sk-container-id-1 div.sk-estimator:hover label.sk-toggleable__label-arrow:before {color: black;}#sk-container-id-1 div.sk-toggleable__content {max-height: 0;max-width: 0;overflow: hidden;text-align: left;background-color: #f0f8ff;}#sk-container-id-1 div.sk-toggleable__content pre {margin: 0.2em;color: black;border-radius: 0.25em;background-color: #f0f8ff;}#sk-container-id-1 input.sk-toggleable__control:checked~div.sk-toggleable__content {max-height: 200px;max-width: 100%;overflow: auto;}#sk-container-id-1 input.sk-toggleable__control:checked~label.sk-toggleable__label-arrow:before {content: \"▾\";}#sk-container-id-1 div.sk-estimator input.sk-toggleable__control:checked~label.sk-toggleable__label {background-color: #d4ebff;}#sk-container-id-1 div.sk-label input.sk-toggleable__control:checked~label.sk-toggleable__label {background-color: #d4ebff;}#sk-container-id-1 input.sk-hidden--visually {border: 0;clip: rect(1px 1px 1px 1px);clip: rect(1px, 1px, 1px, 1px);height: 1px;margin: -1px;overflow: hidden;padding: 0;position: absolute;width: 1px;}#sk-container-id-1 div.sk-estimator {font-family: monospace;background-color: #f0f8ff;border: 1px dotted black;border-radius: 0.25em;box-sizing: border-box;margin-bottom: 0.5em;}#sk-container-id-1 div.sk-estimator:hover {background-color: #d4ebff;}#sk-container-id-1 div.sk-parallel-item::after {content: \"\";width: 100%;border-bottom: 1px solid gray;flex-grow: 1;}#sk-container-id-1 div.sk-label:hover label.sk-toggleable__label {background-color: #d4ebff;}#sk-container-id-1 div.sk-serial::before {content: \"\";position: absolute;border-left: 1px solid gray;box-sizing: border-box;top: 0;bottom: 0;left: 50%;z-index: 0;}#sk-container-id-1 div.sk-serial {display: flex;flex-direction: column;align-items: center;background-color: white;padding-right: 0.2em;padding-left: 0.2em;position: relative;}#sk-container-id-1 div.sk-item {position: relative;z-index: 1;}#sk-container-id-1 div.sk-parallel {display: flex;align-items: stretch;justify-content: center;background-color: white;position: relative;}#sk-container-id-1 div.sk-item::before, #sk-container-id-1 div.sk-parallel-item::before {content: \"\";position: absolute;border-left: 1px solid gray;box-sizing: border-box;top: 0;bottom: 0;left: 50%;z-index: -1;}#sk-container-id-1 div.sk-parallel-item {display: flex;flex-direction: column;z-index: 1;position: relative;background-color: white;}#sk-container-id-1 div.sk-parallel-item:first-child::after {align-self: flex-end;width: 50%;}#sk-container-id-1 div.sk-parallel-item:last-child::after {align-self: flex-start;width: 50%;}#sk-container-id-1 div.sk-parallel-item:only-child::after {width: 0;}#sk-container-id-1 div.sk-dashed-wrapped {border: 1px dashed gray;margin: 0 0.4em 0.5em 0.4em;box-sizing: border-box;padding-bottom: 0.4em;background-color: white;}#sk-container-id-1 div.sk-label label {font-family: monospace;font-weight: bold;display: inline-block;line-height: 1.2em;}#sk-container-id-1 div.sk-label-container {text-align: center;}#sk-container-id-1 div.sk-container {/* jupyter's `normalize.less` sets `[hidden] { display: none; }` but bootstrap.min.css set `[hidden] { display: none !important; }` so we also need the `!important` here to be able to override the default hidden behavior on the sphinx rendered scikit-learn.org. See: https://github.com/scikit-learn/scikit-learn/issues/21755 */display: inline-block !important;position: relative;}#sk-container-id-1 div.sk-text-repr-fallback {display: none;}</style><div id=\"sk-container-id-1\" class=\"sk-top-container\"><div class=\"sk-text-repr-fallback\"><pre>LinearRegression()</pre><b>In a Jupyter environment, please rerun this cell to show the HTML representation or trust the notebook. <br />On GitHub, the HTML representation is unable to render, please try loading this page with nbviewer.org.</b></div><div class=\"sk-container\" hidden><div class=\"sk-item\"><div class=\"sk-estimator sk-toggleable\"><input class=\"sk-toggleable__control sk-hidden--visually\" id=\"sk-estimator-id-1\" type=\"checkbox\" checked><label for=\"sk-estimator-id-1\" class=\"sk-toggleable__label sk-toggleable__label-arrow\">LinearRegression</label><div class=\"sk-toggleable__content\"><pre>LinearRegression()</pre></div></div></div></div></div>"
            ]
          },
          "metadata": {},
          "execution_count": 14
        }
      ],
      "source": [
        "#Це імпортує лише модель лінійної регресії LinearRegression з модуля linear_model.\n",
        "from sklearn import *\n",
        "import pandas as pd\n",
        "data = data.dropna()\n",
        "# Выбор подмножества признаков\n",
        "X = data[['VehOdo', 'MMRCurrentRetailAveragePrice']]\n",
        "y = data['IsBadBuy']\n",
        "\n",
        "# Удаление строк с пропущенными значениями\n",
        "X_train = X[pd.notnull(X).all(axis=1)]\n",
        "y_train = y[pd.notnull(X).all(axis=1)]\n",
        "\n",
        "# Создание модели\n",
        "model3 = linear_model.LinearRegression()\n",
        "model3.fit(X_train[['VehOdo', 'MMRCurrentRetailAveragePrice']], y_train)\n",
        "\n",
        "# Тренировка модели\n",
        "#model3.fit(X, y)\n"
      ]
    },
    {
      "cell_type": "markdown",
      "metadata": {
        "id": "-qgbSxXr21ax"
      },
      "source": [
        "При імпорті модуля sklearn за допомогою from sklearn import * виникає конфлікт імен, оскільки sklearn містить кілька модулів з однойменними назвами.\n",
        "\n",
        "У цьому коді спочатку вибирається підмножина ознак VehOdo і MMRCurrentRetailAveragePrice. Далі видаляються рядки, де ці ознаки мають відсутні значення. Потім дані розділяються на матрицю ознак X (без цільової змінної) та цільову змінну y (в даному випадку MMRCurrentRetailAveragePrice). Нарешті, створюється модель лінійної регресії та навчається на навчальних даних за допомогою методу .fit(X, y)."
      ]
    },
    {
      "cell_type": "markdown",
      "metadata": {
        "id": "011RJbFj4Jjl"
      },
      "source": [
        "## 3b\n",
        "\n",
        "Виконайте прогнозування для всіх об'єктів навчальної вибірки та привласніть результат змінній prediction\n",
        "\n",
        "*Функції, що можуть бути корисні при рішенні: `model.predict()`*"
      ]
    },
    {
      "cell_type": "code",
      "execution_count": 15,
      "metadata": {
        "colab": {
          "base_uri": "https://localhost:8080/"
        },
        "id": "o2qnzEDn4Jjl",
        "outputId": "29cea9d5-5acf-4fba-9342-3e3d233a686c"
      },
      "outputs": [
        {
          "output_type": "stream",
          "name": "stdout",
          "text": [
            "[0.04585138 0.02731311 0.02558984 ... 0.05317145 0.04953968 0.05005049]\n"
          ]
        }
      ],
      "source": [
        "prediction = model3.predict(X)\n",
        "print(prediction)"
      ]
    },
    {
      "cell_type": "markdown",
      "metadata": {
        "id": "tIKcEdaO4Jjl"
      },
      "source": [
        "## 3c\n",
        "\n",
        "Перетворіть отриманий вектор прогнозувань `prediction` до значень `{0,1}`. Це можна виконати, наприклад, використовуючи list comprehensions: https://docs.python.org/3/tutorial/datastructures.html#list-comprehensions \n",
        "\n",
        "`predictionClass = [1 if prediction[i] > 0.5 else 0 for i in range(prediction.shape[0])]`"
      ]
    },
    {
      "cell_type": "code",
      "execution_count": 16,
      "metadata": {
        "colab": {
          "base_uri": "https://localhost:8080/"
        },
        "id": "zYZWNOLy4Jjm",
        "outputId": "1050a471-c299-48f7-9a7c-043d7a7ad065"
      },
      "outputs": [
        {
          "output_type": "stream",
          "name": "stdout",
          "text": [
            "[0, 0, 0, 0, 1, 0, 1, 0, 1, 0, 0, 1, 0, 0, 0, 0, 0, 0, 0, 0, 0, 0, 1, 1, 0, 0, 0, 0, 0, 0, 0, 0, 1, 0, 0, 0, 0, 0, 0, 0, 0, 0, 0, 0, 1, 0, 0, 1, 0, 0, 1, 0, 0, 0, 1, 0, 0, 0, 1, 0, 1, 0, 1, 0, 1, 0, 1, 1, 0, 0, 0, 0, 0, 0, 0, 1, 1, 0, 0, 1, 0, 0, 1, 0, 1, 0, 1, 0, 1, 0, 1, 0, 0, 1, 0, 0, 0, 0, 0, 0, 0, 0, 0, 0, 0, 0, 0, 0, 0, 0, 0, 0, 0, 0, 0, 0, 0, 0, 0, 0, 0, 0, 0, 0, 0, 0, 0, 0, 0, 0, 0, 1, 1, 0, 0, 0, 0, 0, 0, 0, 0, 0, 0, 0, 0, 0, 0, 0, 0, 0, 0, 0, 0, 0, 0, 0, 0, 0, 0, 0, 0, 0, 0, 0, 0, 1, 0, 0, 0, 0, 0, 0, 0, 0, 0, 0, 0, 0, 0, 0, 0, 0, 0, 0, 0, 0, 0, 1, 0, 0, 0, 0, 0, 0, 1, 0, 0, 0, 0, 0, 0, 0, 0, 0, 0, 0, 0, 0, 0, 0, 0, 0, 0, 0, 0, 0, 1, 0, 0, 0, 0, 0, 0, 0, 1, 0, 0, 0, 0, 0, 0, 0, 0, 0, 0, 0, 0, 0, 0, 0, 0, 0, 0, 0, 0, 0, 0, 0, 0, 0, 0, 0, 0, 0, 0, 0, 0, 0, 1, 0, 0, 0, 0, 0, 0, 0, 0, 0, 0, 0, 1, 0, 0, 1, 0, 0, 0, 0, 0, 0, 0, 0, 0, 0, 0, 0, 0, 1, 1, 0, 1, 0, 0, 0, 1, 1, 0, 0, 0, 0, 0, 1, 0, 0, 0, 0, 0, 0, 0, 0, 0, 0, 0, 0, 0, 0, 0, 1, 0, 1, 0, 0, 0, 1, 0, 0, 0, 1, 0, 0, 0, 0, 0, 0, 1, 0, 1, 0, 1, 0, 0, 0, 1, 0, 0, 0, 0, 0, 0, 0, 0, 0, 0, 0, 1, 0, 1, 0, 0, 0, 0, 0, 0, 0, 0, 0, 0, 1, 1, 1, 0, 0, 0, 0, 0, 0, 0, 0, 0, 0, 0, 0, 0, 0, 0, 0, 1, 0, 0, 1, 0, 0, 0, 1, 0, 0, 0, 0, 0, 1, 0, 0, 0, 0, 1, 0, 0, 0, 0, 0, 1, 0, 0, 0, 0, 0, 1, 0, 0, 0, 0, 1, 1, 1, 0, 0, 0, 1, 0, 0, 0, 1, 0, 0, 0, 0, 1, 1, 1, 1, 1, 0, 0, 1, 0, 0, 0, 0, 0, 1, 0, 1, 0, 0, 0, 0, 0, 0, 0, 0, 1, 0, 0, 0, 0, 0, 0, 0, 0, 0, 1, 0, 0, 0, 0, 0, 0, 0, 1, 1, 1, 0, 0, 0, 0, 1, 0, 1, 0, 1, 1, 0, 0, 1, 0, 0, 0, 0, 0, 0, 1, 0, 0, 0, 0, 0, 0, 0, 1, 0, 0, 1, 0, 0, 0, 0, 0, 0, 0, 1, 1, 0, 0, 0, 0, 0, 0, 0, 0, 1, 0, 0, 0, 0, 0, 0, 0, 0, 0, 0, 0, 0, 1, 0, 0, 0, 0, 1, 0, 0, 0, 0, 0, 0, 0, 1, 0, 0, 0, 1, 1, 0, 0, 0, 0, 0, 0, 0, 0, 0, 0, 0, 1, 0, 0, 0, 0, 0, 0, 0, 0, 0, 0, 0, 0, 0, 0, 0, 0, 0, 1, 0, 1, 0, 0, 0, 0, 0, 0, 0, 0, 0, 0, 1, 1, 0, 0, 0, 0, 0, 0, 1, 0, 0, 0, 0, 0, 0, 0, 1, 0, 0, 1, 0, 0, 1, 0, 0, 1, 0, 0, 0, 0, 0, 0, 0, 0, 0, 0, 0, 0, 0, 0, 0, 0, 0, 0, 0, 0, 0, 0, 0, 1, 0, 0, 0, 0, 0, 0, 0, 0, 0, 0, 0, 0, 0, 0, 0, 0, 0, 0, 0, 0, 0, 0, 0, 0, 0, 1, 0, 0, 0, 0, 0, 0, 0, 0, 0, 0, 0, 0, 0, 0, 0, 0, 0, 1, 0, 1, 0, 0, 0, 0, 0, 0, 0, 0, 1, 0, 0, 0, 0, 0, 0, 0, 0, 0, 0, 0, 0, 0, 0, 0, 0, 0, 0, 0, 0, 0, 0, 0, 0, 0, 0, 1, 1, 0, 0, 0, 1, 0, 0, 0, 1, 0, 0, 0, 0, 0, 0, 0, 0, 1, 0, 0, 1, 0, 0, 1, 0, 0, 0, 0, 0, 0, 0, 0, 0, 0, 1, 1, 0, 0, 1, 0, 0, 0, 0, 0, 1, 0, 1, 1, 0, 0, 0, 0, 0, 0, 0, 0, 0, 0, 0, 0, 1, 0, 1, 1, 0, 0, 0, 0, 0, 0, 0, 0, 0, 0, 1, 1, 0, 0, 0, 0, 0, 0, 0, 0, 0, 1, 1, 0, 0, 1, 0, 0, 0, 1, 0, 1, 0, 0, 0, 1, 1, 0, 0, 0, 0, 0, 0, 0, 0, 0, 0, 0, 0, 0, 0, 0, 0, 1, 0, 0, 0, 0, 0, 0, 1, 0, 0, 0, 0, 0, 0, 0, 0, 0, 0, 0, 0, 0, 0, 0, 0, 0, 0, 0, 0, 1, 0, 0, 0, 0, 0, 0, 0, 0, 0, 1, 0, 0, 0, 0, 0, 0, 0, 0, 0, 1, 0, 0, 0, 1, 0, 0, 0, 0, 0, 0, 0, 0, 1, 0, 0, 0, 0, 0, 1, 0, 0, 0, 1, 0, 1, 0, 1, 0, 0, 0, 1, 0, 0, 0, 0, 0, 0, 1, 0, 1, 0, 1, 1, 0, 1, 0, 1, 0, 0, 0, 0, 1, 1, 1, 0, 0, 0, 0, 0, 0, 0, 0, 1, 1, 0, 0, 0, 0, 0, 0, 0, 0, 0, 0, 0, 0, 0, 0, 0, 1, 1, 0, 1, 0, 0, 0, 0, 0, 0, 0, 1, 0, 0, 1, 0, 0, 0, 0, 0, 0, 1, 1, 0, 1, 1, 0, 1, 0, 1, 0, 0, 0, 1, 1, 0, 0, 0, 0, 0, 1, 0, 0, 0, 0, 0, 0, 0, 0, 0, 0, 0, 0, 1, 0, 0, 0, 0, 0, 0, 0, 0, 0, 1, 1, 0, 1, 1, 1, 0, 1, 0, 0, 0, 0, 0, 0, 0, 0, 0, 0, 0, 0, 0, 1, 0, 0, 0, 0, 0, 0, 0, 0, 1, 0, 0, 1, 0, 0, 0, 0, 0, 0, 0, 0, 0, 1, 0, 1, 0, 0, 0, 0, 0, 0, 0, 1, 0, 0, 1, 1, 0, 0, 0, 0, 0, 0, 1, 0, 1, 0, 0, 0, 0, 1, 0, 1, 0, 0, 1, 0, 0, 0, 0, 1, 0, 1, 0, 1, 0, 0, 0, 0, 0, 1, 1, 0, 1, 0, 0, 0, 0, 0, 0, 1, 0, 0, 0, 0, 0, 0, 0, 1, 0, 0, 0, 1, 0, 0, 0, 0, 0, 0, 1, 1, 1, 0, 1, 0, 0, 0, 1, 0, 0, 1, 1, 1, 0, 1, 1, 1, 0, 1, 0, 0, 1, 0, 0, 0, 0, 0, 0, 0, 0, 0, 0, 0, 0, 0, 0, 0, 0, 0, 0, 1, 0, 0, 0, 0, 0, 1, 0, 0, 0, 1, 1, 1, 0, 1, 1, 0, 0, 0, 0, 0, 0, 0, 0, 1, 0, 1, 1, 0, 0, 0, 0, 0, 0, 0, 0, 0, 0, 0, 0, 0, 0, 0, 0, 1, 0, 0, 1, 0, 1, 0, 0, 0, 0, 1, 0, 0, 0, 0, 0, 0, 0, 0, 0, 0, 0, 0, 0, 0, 0, 0, 0, 1, 0, 0, 0, 0, 0, 0, 0, 0, 0, 1, 0, 0, 0, 1, 1, 0, 0, 0, 0, 1, 1, 1, 1, 1, 0, 0, 0, 1, 0, 0, 0, 0, 0, 0, 0, 0, 1, 0, 0, 0, 0, 0, 0, 0, 0, 0, 0, 0, 1, 0, 0, 0, 1, 0, 0, 1, 0, 1, 0, 0, 0, 1, 0, 0, 0, 1, 0, 0, 1, 1, 0, 0, 0, 0, 0, 0, 1, 0, 0, 0, 1, 1, 1, 0, 0, 0, 0, 1, 0, 0, 0, 1, 1, 1, 0, 0, 0, 1, 0, 1, 0, 0, 1, 0, 1, 0, 0, 0, 0, 0, 0, 1, 0, 0, 0, 0, 0, 0, 0, 1, 1, 0, 0, 0, 0, 1, 0, 0, 1, 0, 0, 0, 1, 1, 0, 1, 0, 1, 0, 1, 1, 0, 1, 0, 1, 0, 0, 1, 0, 0, 1, 0, 1, 0, 0, 1, 1, 1, 1, 0, 0, 0, 0, 0, 0, 0, 0, 1, 0, 0, 0, 1, 0, 0, 0, 0, 1, 0, 0, 0, 0, 0, 0, 0, 0, 1, 0, 1, 0, 0, 1, 0, 1, 1, 1, 0, 0, 0, 0, 0, 0, 0, 1, 0, 0, 0, 1, 1, 0, 1, 0, 0, 0, 0, 1, 0, 0, 1, 0, 0, 0, 1, 0, 0, 0, 0, 1, 1, 1, 0, 1, 0, 0, 0, 0, 0, 0, 0, 0, 0, 0, 0, 0, 0, 0, 0, 0, 0, 0, 0, 0, 0, 0, 0, 0, 0, 0, 0, 0, 0, 0, 0, 0, 0, 0, 0, 0, 0, 0, 0, 0, 0, 0, 0, 0, 0, 0, 0, 0, 0, 0, 0, 0, 1, 1, 0, 0, 0, 0, 0, 0, 0, 0, 0, 0, 0, 0, 0, 0, 0, 0, 0, 0, 0, 0, 0, 1, 0, 1, 0, 0, 0, 1, 0, 0, 0, 0, 0, 0, 0, 1, 0, 0, 0, 0, 0, 0, 0, 1, 0, 1, 1, 0, 0, 0, 0, 0, 0, 0, 0, 0, 0, 0, 0, 0, 0, 0, 0, 0, 0, 1, 0, 0, 0, 0, 0, 0, 0, 1, 0, 0, 0, 0, 0, 0, 1, 1, 1, 0, 0, 0, 0, 0, 0, 1, 0, 0, 0, 0, 1, 1, 0, 0, 0, 0, 0, 0, 0, 0, 0, 0, 0, 0, 0, 0, 0, 0, 0, 0, 0, 0, 0, 0, 0, 0, 0, 0, 0, 0, 0, 0, 0, 0, 0, 0, 0, 0, 0, 0, 0, 0, 0, 0, 0, 0, 0, 0, 0, 0, 0, 0, 0, 0, 0, 0, 0, 0, 0, 0, 0, 0, 0, 0, 0, 0, 0, 0, 0, 0, 1, 0, 0, 0, 0, 0, 0, 0, 1, 0, 0, 0, 0, 0, 0, 0, 0, 0, 1, 0, 1, 0, 0, 0, 0, 0, 1, 0, 0, 0, 0, 0, 0, 0, 0, 0, 0, 0, 0, 0, 0, 1, 0, 0, 0, 1, 0, 0, 1, 0, 1, 0, 0, 0, 0, 0, 0, 0, 0, 0, 0, 1, 0, 0, 0, 0, 0, 0, 0, 0, 1, 0, 0, 0, 1, 1, 1, 0, 0, 0, 0, 0, 0, 0, 0, 0, 0, 0, 0, 0, 0, 0, 0, 0, 1, 0, 0, 0, 0, 0, 0, 0, 0, 0, 0, 0, 0, 0, 1, 0, 0, 0, 1, 0, 0, 0, 0, 0, 0, 0, 0, 0, 0, 1, 0, 0, 0, 0, 0, 0, 0, 0, 1, 0, 0, 0, 1, 0, 0, 0, 1, 0, 0, 0, 0, 0, 0, 0, 0, 0, 0, 0, 1, 0, 0, 0, 0, 0, 0, 0, 0, 0, 0, 0, 0, 0, 0, 0, 1, 0, 1, 0, 0, 0, 1, 0, 1, 0, 0, 0, 0, 0, 0, 1, 0, 0, 1, 1, 0, 0, 0, 0, 0, 0, 1, 1, 0, 0, 0, 0, 0, 0, 0, 1, 0, 0, 0, 0, 0, 1, 0, 1, 0, 0, 0, 0, 0, 1, 0, 0, 0, 0, 0, 1, 0, 1, 0, 0, 0, 0, 0, 1, 0, 1, 0, 0, 0, 0, 0, 0, 0, 0, 0, 0, 0, 0, 0, 1, 1, 0, 0, 0, 0, 1, 1, 0, 1, 1, 0, 1, 0, 1, 1, 0, 0, 1, 0, 0, 0, 0, 1, 1, 1, 1, 0, 1, 0, 1, 1, 0, 0, 0, 0, 0, 0, 0, 0, 0, 0, 0, 0, 0, 0, 1, 1, 0, 0, 0, 0, 0, 0, 0, 0, 0, 0, 1, 0, 1, 0, 0, 0, 0, 0, 1, 0, 1, 0, 0, 1, 0, 1, 0, 1, 0, 1, 0, 0, 0, 1, 0, 0, 0, 1, 0, 1, 0, 0, 1, 0, 0, 1, 0, 0, 0, 0, 1, 1, 0, 0, 0, 0, 0, 0, 0, 0, 1, 0, 1, 0, 0, 0, 0, 0, 0, 0, 0, 0, 0, 0, 0, 1, 0, 0, 0, 0, 0, 0, 0, 0, 1, 0, 0, 0, 1, 0, 0, 0, 0, 0, 1, 0, 1, 1, 1, 0, 0, 1, 0, 0, 0, 0, 0, 0, 0, 0, 0, 0, 0, 0, 0, 0, 0, 0, 0, 0, 0, 0, 0, 0, 0, 0, 1, 0, 0, 1, 0, 0, 0, 1, 0, 0, 0, 0, 0, 0, 0, 0, 0, 0, 0, 0, 0, 0, 0, 0, 0, 0, 0, 0, 0, 0, 1, 0, 0, 0, 0, 0, 1, 0, 0, 1, 0, 0, 0, 0, 1, 0, 0, 0, 0, 0, 1, 0, 0, 0, 0, 1, 1, 1, 0, 1, 0, 0, 0, 0, 0, 0, 0, 0, 0, 1, 0, 1, 1, 1, 0, 0, 0, 0, 0, 0, 0, 0, 0, 0, 0, 1, 0, 0, 0, 0, 0, 0, 0, 0, 0, 0, 0, 0, 0, 0, 0, 0, 0, 0, 0, 0, 0, 0, 0, 0, 0, 0, 0, 0, 0, 0, 0, 0, 1, 0, 0, 1, 0, 0, 1, 0, 0, 0, 0, 0, 0, 0, 0, 1, 0, 0, 0, 0, 1, 0, 0, 0, 1, 0, 0, 0, 0, 0, 0, 0, 1, 1, 0, 1, 0, 0, 0, 1, 0, 0, 0, 0, 1, 0, 1, 1, 1, 1, 0, 0, 0, 0, 1, 0, 0, 0, 0, 0, 1, 0, 0, 0, 0, 0, 0, 0, 0, 0, 0, 0, 0, 0, 0, 0, 1, 0, 0, 0, 0, 0, 1, 0, 0, 0, 0, 0, 0, 0, 0, 0, 0, 0, 0, 0, 0, 0, 0, 0, 0, 0, 0, 0, 0, 0, 0, 1, 0, 0, 0, 0, 0, 0, 0, 0, 0, 0, 0, 1, 0, 1, 1, 1, 0, 1, 0, 0, 0, 0, 0, 0, 0, 0, 0, 0, 1, 0, 1, 1, 0, 0, 0, 0, 0, 1, 0, 0, 0, 0, 0, 0, 0, 0, 0, 1, 0, 0, 0, 0, 1, 1, 0, 1, 1, 0, 0, 0, 0, 0, 0, 0, 0, 0, 0, 0, 0, 0, 0, 0, 0, 0, 0, 0, 0, 0, 0, 0, 0, 1, 0, 0, 0, 1, 0, 0, 0, 0, 0, 0, 0, 0, 0, 0, 0, 0, 0, 0, 0, 0, 0, 0, 0, 1, 0, 1, 1, 0, 0, 0, 0, 0, 0, 0, 1, 0, 0, 0, 0, 0, 0, 0, 0, 0, 0, 0, 0, 0, 0, 0, 0, 0, 0, 0, 0, 0, 0, 0, 0, 0, 0, 0, 0, 1, 1, 1, 1, 0, 0, 1, 0, 0, 0, 0, 0, 0, 0, 0, 0, 0, 0, 0, 0, 0, 0, 0, 1, 0, 0, 0, 0, 0, 0, 0, 0, 0, 0, 0, 1, 1, 0, 0, 1, 0, 0, 0, 1, 0, 0, 0, 0, 0, 0, 0, 0, 0, 0, 0, 0, 0, 0, 0, 0, 0, 0, 1, 0, 0, 1, 0, 0, 0, 0, 0, 1, 0, 0, 1, 1, 0, 0, 0, 0, 1, 0, 0, 0, 0, 1, 0, 0, 0, 0, 0, 1, 0, 0, 0, 0, 0, 0, 0, 0, 0, 1, 0, 0, 0, 0, 1, 1, 1, 0, 1, 1, 0, 0, 0, 0, 0, 0, 0, 0, 0, 0, 0, 1, 1, 0, 0, 0, 0, 0, 0, 1, 0, 0, 1, 0, 1, 0, 0, 0, 1, 0, 0, 0, 0, 0, 0, 1, 0, 1, 1, 1, 1, 1, 0, 1, 1, 0, 0, 1, 1, 1, 1, 1, 0, 0, 1, 1, 1, 1, 0, 1, 0, 1, 0, 0, 0, 1, 0, 0, 0, 0, 0, 0, 1, 1, 0, 0, 0, 0, 0, 0, 0, 0, 0, 0, 0, 0, 0, 0, 0, 0, 0, 0, 0, 0, 0, 1, 0, 1, 0, 1, 0, 0, 1, 1, 1, 0, 0, 0, 0, 1, 1, 0, 0, 0, 0, 1, 0, 0, 0, 1, 0, 0, 0, 0, 0, 0, 1, 0, 0, 0, 0, 1, 0, 0, 0, 0, 0, 0, 0, 1, 1, 0, 0, 1, 0, 1, 0, 0, 0, 1, 0, 0, 1, 0, 0, 1, 0, 1, 0, 0, 1, 0, 0, 0, 1, 0, 0, 0, 1, 0, 0, 0, 0, 0, 0, 0, 0, 0, 0, 0, 0, 0, 0, 0, 0, 0, 0, 0, 0, 0, 0, 0, 0, 0, 1, 0, 0, 0, 0, 0, 0, 0, 0, 0, 0, 1, 0, 0, 0, 0, 0, 0, 0, 1, 0, 0, 0, 1, 0, 0, 0, 0, 0, 0, 0, 0, 0, 0, 0, 1, 0, 0, 1, 0, 0, 0, 0, 0, 0, 0, 0, 0, 0, 1, 0, 0, 0, 0, 0, 1, 0, 0, 0, 0, 0, 0, 0, 0, 0, 0, 0, 0, 0, 0, 0, 0, 0, 0, 0, 1, 0, 1, 0, 1, 0, 0, 0, 0, 0, 1, 0, 0, 1, 0, 0, 0, 1, 0, 0, 1, 0, 0, 1, 0, 1, 0, 1, 0, 0, 0, 0, 0, 0, 0, 0, 1, 0, 0, 1, 0, 0, 1, 0, 0, 0, 0, 0, 0, 0, 0, 0, 1, 0, 0, 0, 0, 0, 0, 0, 0, 0, 0, 1, 0, 0, 0, 0, 0, 0, 0, 0, 0, 1, 1, 0, 1, 1, 0, 0, 1, 0, 0, 0, 0, 1, 1, 1, 1, 0, 0, 0, 0, 0, 0, 1, 0, 0, 0, 0, 1, 1, 0, 0, 0, 0, 0, 1, 0, 0, 0, 0, 0, 0, 0, 0, 0, 0, 0, 0, 0, 0, 0, 0, 1, 0, 0, 0, 0, 0, 0, 0, 0, 0, 0, 1, 0, 0, 0, 0, 1, 0, 0, 1, 0, 0, 1, 0, 0, 0, 0, 1, 0, 1, 0, 0, 0, 1, 0, 0, 0, 0, 1, 0, 0, 1, 0, 0, 0, 0, 0, 0, 0, 0, 0, 0, 0, 0, 0, 0, 0, 0, 0, 0, 0, 0, 0, 0, 0, 0, 0, 1, 1, 1, 0, 0, 0, 0, 0, 0, 0, 0, 0, 0, 0, 1, 0, 0, 0, 0, 0, 0, 0, 0, 1, 0, 0, 0, 1, 1, 0, 0, 1, 1, 0, 0, 0, 0, 0, 0, 0, 0, 0, 0, 0, 1, 1, 0, 0, 0, 0, 1, 1, 1, 1, 0, 0, 0, 1, 0, 0, 0, 1, 0, 0, 0, 0, 0, 0, 0, 0, 0, 0, 0, 0, 0, 0, 0, 0, 0, 0, 0, 0, 0, 0, 0, 0, 0, 0, 0, 1, 1, 1, 0, 0, 1, 0, 0, 0, 1, 0, 1, 1, 0, 0, 0, 0, 0, 0, 0, 1, 0, 0, 0, 0, 1, 0, 0, 0, 0, 0, 1, 0, 1, 0, 1, 0, 1, 0, 0, 1, 0, 1, 0, 0, 0, 0, 0, 1, 0, 1, 0, 0, 0, 0, 0, 0, 1, 0, 0, 1, 1, 1, 0, 1, 1, 0, 0, 0, 0, 0, 0, 1, 0, 1, 1, 1, 0, 1, 0, 0, 1, 1, 1, 1, 0, 0, 0, 1, 1, 1, 1, 1, 0, 1, 0, 1]\n"
          ]
        }
      ],
      "source": [
        "predictionClass = [1 if prediction[i] > 0.05 else 0 for i in range(prediction.shape[0])]\n",
        "print(predictionClass)\n"
      ]
    },
    {
      "cell_type": "markdown",
      "metadata": {
        "id": "bSxjX7n-4Jjm"
      },
      "source": [
        "## 3d\n",
        "\n",
        "Побудуйте звіт з якості класифікації та матриці похибок. Як зміняться звіт та матриця похибок, якщо зміниться поріг в завданні 3c (за замовчуванням його значення рівне 0.5)?\n",
        "\n",
        "*Функції, що можуть бути корисні при рішенні: `print(metrics.classification_report(...))`, `print(metrics.confusion_matrix(...))`*\n",
        "\n",
        "Функція classification_report для кожного класу об'єктів рахує точність (precision) в цьому класі та повноти (recall). Повнота - це процент об'єктів даного класу, які ваш метод прогнозування також віднести до даного класу, серед всіх об'єктів даного класу. Точність (precision) - це те саме, тілько серед всіх об'єктів, зпрогнозованих для даного класу.\n",
        "\n",
        "Функція confusion_matrix певертає матрицю з кількістю об'єктів. Номера стовпчиків матриці - це номер зпрогнозованих класів, рядки - це номера правильних класів. Наприклад, елемент M[0,1] - це кількість машин, де насправді IsBadBuy = 0, а ви спрогнозували 1."
      ]
    },
    {
      "cell_type": "code",
      "execution_count": 26,
      "metadata": {
        "colab": {
          "base_uri": "https://localhost:8080/"
        },
        "id": "RRWDrNB_4Jjn",
        "outputId": "d6033f71-5848-492d-cdef-de51ae2a7533"
      },
      "outputs": [
        {
          "output_type": "stream",
          "name": "stdout",
          "text": [
            "              precision    recall  f1-score   support\n",
            "\n",
            "           0       0.99      1.00      0.99      3151\n",
            "           1       1.00      0.70      0.83       125\n",
            "\n",
            "    accuracy                           0.99      3276\n",
            "   macro avg       0.99      0.85      0.91      3276\n",
            "weighted avg       0.99      0.99      0.99      3276\n",
            "\n",
            "[[3151    0]\n",
            " [  37   88]]\n"
          ]
        }
      ],
      "source": [
        "from sklearn import metrics\n",
        "\n",
        "# Побудова звіту з якості класифікації\n",
        "classification_report = metrics.classification_report(y_train, predictionClass)\n",
        "print(classification_report)\n",
        "\n",
        "# Побудова матриці похибок\n",
        "confusion_matrix = metrics.confusion_matrix(y_train, predictionClass)\n",
        "print(confusion_matrix)"
      ]
    },
    {
      "cell_type": "markdown",
      "metadata": {
        "id": "-gLDY5fSAkG-"
      },
      "source": [
        "Якщо зміниться поріг прогнозування, то звіт та матриця похибок також зміняться, оскільки поріг визначає, які значення будуть віднесені до класу 1, а які - до класу 0. Залежно від порогу можуть змінитися точність, повнота та інші метрики класифікації, а також елементи матриці похибок. Наприклад, збільшення порогу може призвести до збільшення точності для класу 1 за рахунок зменшення кількості ложнопозитивних випадків, але одночасно зменшити повноту для класу 1 через більшу кількість випадків, які були помилково віднесені до класу 0."
      ]
    },
    {
      "cell_type": "markdown",
      "metadata": {
        "id": "I_NiBsjZ4Jjn"
      },
      "source": [
        "# Класифікація\n",
        "\n",
        "## 4a\n",
        "Трактуючи задачу як за задачу класифікації, побудуйте модель класифікації, побудуйте можель класифікації «решаюче дерево» глибиною 20  (все аналогічно лінійної регресії).\n",
        "\n",
        "\n",
        "*Функції, що можуть бути корисні при рішенні: `tree.DecisionTreeClassifier(max_depth=20) `*"
      ]
    },
    {
      "cell_type": "code",
      "execution_count": 27,
      "metadata": {
        "id": "dHkoy7Rf4Jjo"
      },
      "outputs": [],
      "source": [
        "from sklearn import tree\n",
        "\n",
        "# Створення та навчання моделі рішаючого дерева\n",
        "model2 = tree.DecisionTreeClassifier(max_depth=20)\n",
        "model2.fit(X_train, y_train)\n",
        "\n",
        "# Прогнозування для тестових даних\n",
        "prediction2 = model2.predict(X)"
      ]
    },
    {
      "cell_type": "markdown",
      "metadata": {
        "id": "J4ycEPc04Jjo"
      },
      "source": [
        "## 4b\n",
        "\n",
        "Решаюче дерево прогнозує ймовірності. За допомогою побудованої моделі розрахуйте ймовірності наявності недоліків, що приховуються.\n",
        "\n",
        "*Функції, що можуть бути корисні при вирішенні: `model.predict_proba() `*"
      ]
    },
    {
      "cell_type": "code",
      "execution_count": 19,
      "metadata": {
        "colab": {
          "base_uri": "https://localhost:8080/"
        },
        "id": "1PEH9-ZO4Jjo",
        "outputId": "966f4b5f-d8a7-47eb-8781-2691103431af"
      },
      "outputs": [
        {
          "output_type": "stream",
          "name": "stdout",
          "text": [
            "[0. 0. 0. ... 0. 0. 0.]\n"
          ]
        }
      ],
      "source": [
        "# Розрахунок ймовірностей\n",
        "probabilities = model2.predict_proba(X_train)\n",
        "\n",
        "# Ймовірності наявності недоліків, що приховуються\n",
        "hidden_defect_probabilities = probabilities[:, 1]\n",
        "print(hidden_defect_probabilities)"
      ]
    },
    {
      "cell_type": "markdown",
      "metadata": {
        "id": "Ven9uPr04Jjp"
      },
      "source": [
        "## 4c\n",
        "\n",
        "Перетворіть отриманий вектор пронозувань `prediction` до значень `{0,1}`. Побудуйте звіт про класифікацію та матрицю похибок. Який метод виявився краще?"
      ]
    },
    {
      "cell_type": "code",
      "execution_count": 22,
      "metadata": {
        "colab": {
          "base_uri": "https://localhost:8080/"
        },
        "id": "i2b3ADs14Jjp",
        "outputId": "97db9816-0cfc-4ca3-c23b-6cae2dd287b0"
      },
      "outputs": [
        {
          "output_type": "stream",
          "name": "stdout",
          "text": [
            "              precision    recall  f1-score   support\n",
            "\n",
            "           0       0.99      1.00      0.99      3151\n",
            "           1       1.00      0.70      0.83       125\n",
            "\n",
            "    accuracy                           0.99      3276\n",
            "   macro avg       0.99      0.85      0.91      3276\n",
            "weighted avg       0.99      0.99      0.99      3276\n",
            "\n",
            "[[3151    0]\n",
            " [  37   88]]\n"
          ]
        }
      ],
      "source": [
        "prediction = model2.predict(X_train)\n",
        "predictionClass = [1 if prediction[i] > 0.5 else 0 for i in range(prediction.shape[0])]\n",
        "\n",
        "# Звіт про класифікацію\n",
        "classification_report = metrics.classification_report(y_train, predictionClass)\n",
        "print(classification_report)\n",
        "\n",
        "# Матриця похибок\n",
        "confusion_matrix = metrics.confusion_matrix(y_train, predictionClass)\n",
        "print(confusion_matrix)"
      ]
    },
    {
      "cell_type": "markdown",
      "metadata": {
        "id": "QNGhmaUTEeGY"
      },
      "source": [
        "Щоб визначити, який метод (лінійна регресія або рішаюче дерево) є кращим, слід порівняти результати звітів про класифікацію та матриць похибок."
      ]
    },
    {
      "cell_type": "markdown",
      "metadata": {
        "id": "uEPY4aOY4Jjp"
      },
      "source": [
        "# Крос-валідація\n",
        "## 5a\n",
        "\n",
        "\n",
        "Розділіть початкову вибірку на дві частини, наприклад, використовуючи [slices](https://pythonz.net/references/named/slice/):\n",
        "\n",
        "`dataTrain = data.loc[0:34999,]\n",
        "dataTest = data.loc[35000:69999,]`"
      ]
    },
    {
      "cell_type": "code",
      "execution_count": 28,
      "metadata": {
        "id": "CnCHrLx24Jjp"
      },
      "outputs": [],
      "source": [
        "dataTrain = data.loc[0:34999, :]\n",
        "dataTest = data.loc[35000:69999, :]"
      ]
    },
    {
      "cell_type": "markdown",
      "metadata": {
        "id": "53iKaxZzEQUn"
      },
      "source": [
        "У цьому прикладі dataTrain буде містити перші 35000 рядків з початкової вибірки, а dataTest - наступні 35000 рядків."
      ]
    },
    {
      "cell_type": "markdown",
      "metadata": {
        "id": "kqyd_DBe4Jjp"
      },
      "source": [
        "## 5b\n",
        "\n",
        "Натренуйте рішаюче дерево на  `dataTrain` та застосуйте до  `dataTrain` та dataTest, підрахувавши для кожного випадку точність прогнозування. \n",
        "\n",
        "Проведіть декілька експериментів для різних глибин дерев. Зазначте в коментарях, для яких глибин модель недонавчена, для яких перенавчена та де знаходиться точка раннього останову (зупинки).\n",
        "\n",
        "*Функції, що можуть бути корисними при вирішенні: `metrics.accuracy_score() `*"
      ]
    },
    {
      "cell_type": "code",
      "execution_count": 29,
      "metadata": {
        "colab": {
          "base_uri": "https://localhost:8080/"
        },
        "id": "Y-oin_Ot4Jjp",
        "outputId": "a9809473-1f1e-432c-ceee-16f6cb555644"
      },
      "outputs": [
        {
          "output_type": "stream",
          "name": "stdout",
          "text": [
            "Глибина: 5\n",
            "Точність на навчальній вибірці: 0.9636752136752137\n",
            "------------------------------\n",
            "Глибина: 10\n",
            "Точність на навчальній вибірці: 0.9716117216117216\n",
            "------------------------------\n",
            "Глибина: 15\n",
            "Точність на навчальній вибірці: 0.9813797313797313\n",
            "------------------------------\n",
            "Глибина: 20\n",
            "Точність на навчальній вибірці: 0.9887057387057387\n",
            "------------------------------\n",
            "Глибина: 25\n",
            "Точність на навчальній вибірці: 0.996947496947497\n",
            "------------------------------\n",
            "Глибина: 30\n",
            "Точність на навчальній вибірці: 1.0\n",
            "------------------------------\n",
            "Глибина: 35\n",
            "Точність на навчальній вибірці: 1.0\n",
            "------------------------------\n",
            "Глибина: 40\n",
            "Точність на навчальній вибірці: 1.0\n",
            "------------------------------\n",
            "Глибина: 45\n",
            "Точність на навчальній вибірці: 1.0\n",
            "------------------------------\n",
            "Глибина: 50\n",
            "Точність на навчальній вибірці: 1.0\n",
            "------------------------------\n"
          ]
        }
      ],
      "source": [
        "from sklearn.tree import DecisionTreeClassifier\n",
        "from sklearn.metrics import accuracy_score\n",
        "\n",
        "# Натренувати рішаюче дерево з різною глибиною\n",
        "depths = [5, 10, 15, 20, 25, 30, 35, 40, 45, 50]\n",
        "for depth in depths:\n",
        "    model = DecisionTreeClassifier(max_depth=depth)\n",
        "    model.fit(X_train, y_train)\n",
        "    \n",
        "    # Прогнозування для навчальної та тестової вибірки\n",
        "    trainPredictions = model.predict(X_train)\n",
        "    \n",
        "    # Оцінка точності прогнозування\n",
        "    trainAccuracy = accuracy_score(y_train, trainPredictions)\n",
        "    \n",
        "    print(f\"Глибина: {depth}\")\n",
        "    print(f\"Точність на навчальній вибірці: {trainAccuracy}\")\n",
        "    print(\"------------------------------\")"
      ]
    },
    {
      "cell_type": "markdown",
      "metadata": {
        "id": "v6yx_kzS4Jjq"
      },
      "source": [
        "# Рішаюча функція\n",
        "## 6a\n",
        "\n",
        "Повернемось до моделі рішаючого дерева глибиною 20, що побудовано за навчальною вибіркою `data`. Нехай ціна похибки невірного пронозування 0 дорівнює 1000, а невірного прогнозування 1 — 100.\n",
        "\n",
        "Підрахуйте функцію втрат &mdash; середню похибку по всій навчаючій вибірці."
      ]
    },
    {
      "cell_type": "code",
      "execution_count": 30,
      "metadata": {
        "colab": {
          "base_uri": "https://localhost:8080/"
        },
        "id": "08yxJzZf4Jjq",
        "outputId": "8db3d523-76be-4135-bbba-c588e20d1a2f"
      },
      "outputs": [
        {
          "output_type": "stream",
          "name": "stdout",
          "text": [
            "12.282967032967033\n"
          ]
        }
      ],
      "source": [
        "import numpy as np\n",
        "y_pred = model2.predict(X)\n",
        "\n",
        "errors = np.where(y == y_pred, 1, 1000)\n",
        "\n",
        "mean = np.mean(errors)\n",
        "print(mean)"
      ]
    },
    {
      "cell_type": "markdown",
      "metadata": {
        "id": "v1yiVdDfVTYA"
      },
      "source": [
        "Проектне завдання\n",
        "\n",
        "Датасет: Car Evaluation\n",
        "Цельова ознака: Car\n",
        "Метрика якості: accuracy\n",
        "Крос-валідація: стандартна, cross_val_predict\n",
        "Для отримання балів потрібно досягти якості: 0.993\n",
        "\n"
      ]
    },
    {
      "cell_type": "code",
      "execution_count": 31,
      "metadata": {
        "colab": {
          "base_uri": "https://localhost:8080/",
          "height": 90
        },
        "id": "BfNIAdztV2wp",
        "outputId": "8d41d09e-43ca-4a59-cd99-5bc5b0103ecc"
      },
      "outputs": [
        {
          "output_type": "display_data",
          "data": {
            "text/plain": [
              "<IPython.core.display.HTML object>"
            ],
            "text/html": [
              "\n",
              "     <input type=\"file\" id=\"files-f01aedfc-114e-441e-b581-4479f2dc9f45\" name=\"files[]\" multiple disabled\n",
              "        style=\"border:none\" />\n",
              "     <output id=\"result-f01aedfc-114e-441e-b581-4479f2dc9f45\">\n",
              "      Upload widget is only available when the cell has been executed in the\n",
              "      current browser session. Please rerun this cell to enable.\n",
              "      </output>\n",
              "      <script>// Copyright 2017 Google LLC\n",
              "//\n",
              "// Licensed under the Apache License, Version 2.0 (the \"License\");\n",
              "// you may not use this file except in compliance with the License.\n",
              "// You may obtain a copy of the License at\n",
              "//\n",
              "//      http://www.apache.org/licenses/LICENSE-2.0\n",
              "//\n",
              "// Unless required by applicable law or agreed to in writing, software\n",
              "// distributed under the License is distributed on an \"AS IS\" BASIS,\n",
              "// WITHOUT WARRANTIES OR CONDITIONS OF ANY KIND, either express or implied.\n",
              "// See the License for the specific language governing permissions and\n",
              "// limitations under the License.\n",
              "\n",
              "/**\n",
              " * @fileoverview Helpers for google.colab Python module.\n",
              " */\n",
              "(function(scope) {\n",
              "function span(text, styleAttributes = {}) {\n",
              "  const element = document.createElement('span');\n",
              "  element.textContent = text;\n",
              "  for (const key of Object.keys(styleAttributes)) {\n",
              "    element.style[key] = styleAttributes[key];\n",
              "  }\n",
              "  return element;\n",
              "}\n",
              "\n",
              "// Max number of bytes which will be uploaded at a time.\n",
              "const MAX_PAYLOAD_SIZE = 100 * 1024;\n",
              "\n",
              "function _uploadFiles(inputId, outputId) {\n",
              "  const steps = uploadFilesStep(inputId, outputId);\n",
              "  const outputElement = document.getElementById(outputId);\n",
              "  // Cache steps on the outputElement to make it available for the next call\n",
              "  // to uploadFilesContinue from Python.\n",
              "  outputElement.steps = steps;\n",
              "\n",
              "  return _uploadFilesContinue(outputId);\n",
              "}\n",
              "\n",
              "// This is roughly an async generator (not supported in the browser yet),\n",
              "// where there are multiple asynchronous steps and the Python side is going\n",
              "// to poll for completion of each step.\n",
              "// This uses a Promise to block the python side on completion of each step,\n",
              "// then passes the result of the previous step as the input to the next step.\n",
              "function _uploadFilesContinue(outputId) {\n",
              "  const outputElement = document.getElementById(outputId);\n",
              "  const steps = outputElement.steps;\n",
              "\n",
              "  const next = steps.next(outputElement.lastPromiseValue);\n",
              "  return Promise.resolve(next.value.promise).then((value) => {\n",
              "    // Cache the last promise value to make it available to the next\n",
              "    // step of the generator.\n",
              "    outputElement.lastPromiseValue = value;\n",
              "    return next.value.response;\n",
              "  });\n",
              "}\n",
              "\n",
              "/**\n",
              " * Generator function which is called between each async step of the upload\n",
              " * process.\n",
              " * @param {string} inputId Element ID of the input file picker element.\n",
              " * @param {string} outputId Element ID of the output display.\n",
              " * @return {!Iterable<!Object>} Iterable of next steps.\n",
              " */\n",
              "function* uploadFilesStep(inputId, outputId) {\n",
              "  const inputElement = document.getElementById(inputId);\n",
              "  inputElement.disabled = false;\n",
              "\n",
              "  const outputElement = document.getElementById(outputId);\n",
              "  outputElement.innerHTML = '';\n",
              "\n",
              "  const pickedPromise = new Promise((resolve) => {\n",
              "    inputElement.addEventListener('change', (e) => {\n",
              "      resolve(e.target.files);\n",
              "    });\n",
              "  });\n",
              "\n",
              "  const cancel = document.createElement('button');\n",
              "  inputElement.parentElement.appendChild(cancel);\n",
              "  cancel.textContent = 'Cancel upload';\n",
              "  const cancelPromise = new Promise((resolve) => {\n",
              "    cancel.onclick = () => {\n",
              "      resolve(null);\n",
              "    };\n",
              "  });\n",
              "\n",
              "  // Wait for the user to pick the files.\n",
              "  const files = yield {\n",
              "    promise: Promise.race([pickedPromise, cancelPromise]),\n",
              "    response: {\n",
              "      action: 'starting',\n",
              "    }\n",
              "  };\n",
              "\n",
              "  cancel.remove();\n",
              "\n",
              "  // Disable the input element since further picks are not allowed.\n",
              "  inputElement.disabled = true;\n",
              "\n",
              "  if (!files) {\n",
              "    return {\n",
              "      response: {\n",
              "        action: 'complete',\n",
              "      }\n",
              "    };\n",
              "  }\n",
              "\n",
              "  for (const file of files) {\n",
              "    const li = document.createElement('li');\n",
              "    li.append(span(file.name, {fontWeight: 'bold'}));\n",
              "    li.append(span(\n",
              "        `(${file.type || 'n/a'}) - ${file.size} bytes, ` +\n",
              "        `last modified: ${\n",
              "            file.lastModifiedDate ? file.lastModifiedDate.toLocaleDateString() :\n",
              "                                    'n/a'} - `));\n",
              "    const percent = span('0% done');\n",
              "    li.appendChild(percent);\n",
              "\n",
              "    outputElement.appendChild(li);\n",
              "\n",
              "    const fileDataPromise = new Promise((resolve) => {\n",
              "      const reader = new FileReader();\n",
              "      reader.onload = (e) => {\n",
              "        resolve(e.target.result);\n",
              "      };\n",
              "      reader.readAsArrayBuffer(file);\n",
              "    });\n",
              "    // Wait for the data to be ready.\n",
              "    let fileData = yield {\n",
              "      promise: fileDataPromise,\n",
              "      response: {\n",
              "        action: 'continue',\n",
              "      }\n",
              "    };\n",
              "\n",
              "    // Use a chunked sending to avoid message size limits. See b/62115660.\n",
              "    let position = 0;\n",
              "    do {\n",
              "      const length = Math.min(fileData.byteLength - position, MAX_PAYLOAD_SIZE);\n",
              "      const chunk = new Uint8Array(fileData, position, length);\n",
              "      position += length;\n",
              "\n",
              "      const base64 = btoa(String.fromCharCode.apply(null, chunk));\n",
              "      yield {\n",
              "        response: {\n",
              "          action: 'append',\n",
              "          file: file.name,\n",
              "          data: base64,\n",
              "        },\n",
              "      };\n",
              "\n",
              "      let percentDone = fileData.byteLength === 0 ?\n",
              "          100 :\n",
              "          Math.round((position / fileData.byteLength) * 100);\n",
              "      percent.textContent = `${percentDone}% done`;\n",
              "\n",
              "    } while (position < fileData.byteLength);\n",
              "  }\n",
              "\n",
              "  // All done.\n",
              "  yield {\n",
              "    response: {\n",
              "      action: 'complete',\n",
              "    }\n",
              "  };\n",
              "}\n",
              "\n",
              "scope.google = scope.google || {};\n",
              "scope.google.colab = scope.google.colab || {};\n",
              "scope.google.colab._files = {\n",
              "  _uploadFiles,\n",
              "  _uploadFilesContinue,\n",
              "};\n",
              "})(self);\n",
              "</script> "
            ]
          },
          "metadata": {}
        },
        {
          "output_type": "stream",
          "name": "stdout",
          "text": [
            "Saving CarEvaluation.csv to CarEvaluation (2).csv\n",
            "Accuracy: 0.812\n"
          ]
        }
      ],
      "source": [
        "import io\n",
        "import pandas as pd\n",
        "# cross_val_predict: \n",
        "# Дані розбиваються за параметром cv. Кожна вибірка належить точно до одного тестового набору, і її прогноз обчислюється за допомогою оцінки, підібраної на відповідному навчальному наборі.\n",
        "# KFold\n",
        "# Надає індекси тренувань/тестів для розділення даних на тренувальні/тестові набори. Розбиває набір даних на k послідовних згинів (за замовчуванням без перемішування).\n",
        "from sklearn.model_selection import cross_val_predict, KFold\n",
        "from sklearn.metrics import accuracy_score\n",
        "from sklearn.ensemble import RandomForestClassifier\n",
        "\n",
        "\n",
        "# Завантаження даних\n",
        "from google.colab import files\n",
        "uploaded = files.upload()\n",
        "df = pd.read_csv(io.StringIO(uploaded['CarEvaluation.csv'].decode('utf-8')))\n",
        "\n",
        "# Перетворення категоріальних признаків\n",
        "categorical_columns = ['buying', 'persons', 'safety']\n",
        "for column in categorical_columns:\n",
        "  df[column] = df[column].astype('category').cat.codes\n",
        "\n",
        "# Видалення непотрібних признаків\n",
        "df.drop(['maint', 'lug_boot', 'doors'], axis=1, inplace=True)\n",
        "\n",
        "# Розділення на признаки і цільову змінну\n",
        "X = df.drop('car', axis=1)\n",
        "y = df['car']\n",
        "\n",
        "# Навчання моделі випадкового лісу\n",
        "model = RandomForestClassifier(n_estimators=100, max_depth=10, random_state=0)\n",
        "model.fit(X, y)\n",
        "\n",
        "# Крос-валідація\n",
        "cv = KFold(n_splits=10, shuffle=True, random_state=0)\n",
        "y_pred = cross_val_predict(model, X, y, cv=cv)\n",
        "\n",
        "# Оцінка якості\n",
        "accuracy = accuracy_score(y, y_pred)\n",
        "print('Accuracy: {:.3f}'.format(accuracy))"
      ]
    }
  ],
  "metadata": {
    "colab": {
      "provenance": []
    },
    "kernelspec": {
      "display_name": "Python 3",
      "language": "python",
      "name": "python3"
    },
    "language_info": {
      "codemirror_mode": {
        "name": "ipython",
        "version": 3
      },
      "file_extension": ".py",
      "mimetype": "text/x-python",
      "name": "python",
      "nbconvert_exporter": "python",
      "pygments_lexer": "ipython3",
      "version": "3.6.5"
    }
  },
  "nbformat": 4,
  "nbformat_minor": 0
}